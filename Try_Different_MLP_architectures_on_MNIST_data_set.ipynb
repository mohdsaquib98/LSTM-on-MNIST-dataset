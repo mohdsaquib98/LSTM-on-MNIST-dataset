{
  "nbformat": 4,
  "nbformat_minor": 0,
  "metadata": {
    "colab": {
      "name": "Try Different MLP architectures on MNIST data set",
      "version": "0.3.2",
      "provenance": [],
      "collapsed_sections": []
    },
    "kernelspec": {
      "name": "python3",
      "display_name": "Python 3"
    }
  },
  "cells": [
    {
      "cell_type": "markdown",
      "metadata": {
        "id": "7GbBHEEdnfSk",
        "colab_type": "text"
      },
      "source": [
        "#### Objective - \n",
        "Model with 3 Different MLP architecture on MNIST data set.\n",
        "1. 2- Hidden Layer Architecture(784-450-190-10)\n",
        "2. 3-Hidden Layer Architecture(784-250-190-100-10)\n",
        "3. 5-Hidden Layer Architecture(784-215-170-135-80-25-10)"
      ]
    },
    {
      "cell_type": "code",
      "metadata": {
        "id": "kbBbDrutxXUQ",
        "colab_type": "code",
        "colab": {}
      },
      "source": [
        "# if you keras is not using tensorflow as backend set \"KERAS_BACKEND=tensorflow\" use this command\n",
        "from keras.utils import np_utils \n",
        "from keras.datasets import mnist \n",
        "import seaborn as sns\n",
        "from keras.initializers import RandomNormal"
      ],
      "execution_count": 0,
      "outputs": []
    },
    {
      "cell_type": "code",
      "metadata": {
        "id": "8gAwlj1AyCEi",
        "colab_type": "code",
        "colab": {}
      },
      "source": [
        "%matplotlib notebook\n",
        "import matplotlib.pyplot as plt\n",
        "import numpy as np\n",
        "import time\n",
        "# https://gist.github.com/greydanus/f6eee59eaf1d90fcb3b534a25362cea4\n",
        "# https://stackoverflow.com/a/14434334\n",
        "# this function is used to update the plots for each epoch and error\n",
        "def plt_dynamic(x, vy, ty, ax, colors=['b']):\n",
        "    ax.plot(x, vy, 'b', label=\"Validation Loss\")\n",
        "    ax.plot(x, ty, 'r', label=\"Train Loss\")\n",
        "    plt.legend()\n",
        "    plt.grid()\n",
        "    fig.canvas.draw()"
      ],
      "execution_count": 0,
      "outputs": []
    },
    {
      "cell_type": "code",
      "metadata": {
        "id": "0uuaZAa4y3jn",
        "colab_type": "code",
        "colab": {}
      },
      "source": [
        "# the data, shuffled and split between train and test sets \n",
        "(x_train, y_train), (x_test, y_test) = mnist.load_data()"
      ],
      "execution_count": 0,
      "outputs": []
    },
    {
      "cell_type": "code",
      "metadata": {
        "id": "odA2vxqwse3S",
        "colab_type": "code",
        "colab": {}
      },
      "source": [
        "\n",
        "# if you observe the input shape its 3 dimensional vector\n",
        "# for each image we have a (28*28) vector\n",
        "# we will convert the (28*28) vector into single dimensional vector of 1 * 784 \n",
        "\n",
        "x_train = x_train.reshape(x_train.shape[0], x_train.shape[1]*x_train.shape[2]) \n",
        "x_test = x_test.reshape(x_test.shape[0], x_test.shape[1]*x_test.shape[2])"
      ],
      "execution_count": 0,
      "outputs": []
    },
    {
      "cell_type": "code",
      "metadata": {
        "id": "rRrS3WRPyhY9",
        "colab_type": "code",
        "colab": {}
      },
      "source": [
        "\n",
        "# after converting the input images from 3d to 2d vectors\n",
        "\n",
        "print(\"Number of training examples :\", x_train.shape[0], \"and each image is of shape (%d)\"%(x_train.shape[1]))\n",
        "print(\"Number of training examples :\", x_test.shape[0], \"and each image is of shape (%d)\"%(x_test.shape[1]))"
      ],
      "execution_count": 0,
      "outputs": []
    },
    {
      "cell_type": "code",
      "metadata": {
        "id": "0PUtpp9FzRY5",
        "colab_type": "code",
        "colab": {}
      },
      "source": [
        "# An example data point\n",
        "print(X_train[0])"
      ],
      "execution_count": 0,
      "outputs": []
    },
    {
      "cell_type": "code",
      "metadata": {
        "id": "SOkIGZkdzWm7",
        "colab_type": "code",
        "colab": {}
      },
      "source": [
        "# if we observe the above matrix each cell is having a value between 0-255\n",
        "# before we move to apply machine learning algorithms lets try to normalize the data\n",
        "# X => (X - Xmin)/(Xmax-Xmin) = X/255\n",
        "\n",
        "X_train = X_train/255\n",
        "X_test = X_test/255"
      ],
      "execution_count": 0,
      "outputs": []
    },
    {
      "cell_type": "code",
      "metadata": {
        "id": "t5MSrIAzzi-o",
        "colab_type": "code",
        "colab": {}
      },
      "source": [
        "# example data point after normlizing\n",
        "print(X_train[0])"
      ],
      "execution_count": 0,
      "outputs": []
    },
    {
      "cell_type": "code",
      "metadata": {
        "id": "6Lnelt2ozktq",
        "colab_type": "code",
        "outputId": "e59e69a2-c17c-499e-e305-0a77e491ab58",
        "colab": {
          "base_uri": "https://localhost:8080/",
          "height": 51
        }
      },
      "source": [
        "# here we are having a class number for each image\n",
        "print(\"Class label of first image :\", y_train[0])\n",
        "\n",
        "# lets convert this into a 10 dimensional vector\n",
        "# ex: consider an image is 5 convert it into 5 => [0, 0, 0, 0, 0, 1, 0, 0, 0, 0]\n",
        "# this conversion needed for MLPs \n",
        "\n",
        "Y_train = np_utils.to_categorical(y_train, 10) \n",
        "Y_test = np_utils.to_categorical(y_test, 10)\n",
        "\n",
        "print(\"After converting the output into a vector : \",Y_train[0])"
      ],
      "execution_count": 0,
      "outputs": [
        {
          "output_type": "stream",
          "text": [
            "Class label of first image : 5\n",
            "After converting the output into a vector :  [0. 0. 0. 0. 0. 1. 0. 0. 0. 0.]\n"
          ],
          "name": "stdout"
        }
      ]
    },
    {
      "cell_type": "code",
      "metadata": {
        "id": "9km-99B31X66",
        "colab_type": "code",
        "colab": {}
      },
      "source": [
        "\n",
        "# some model parameters\n",
        "\n",
        "output_dim = 10\n",
        "input_dim = X_train.shape[1]\n",
        "\n",
        "batch_size = 128 \n",
        "nb_epoch = 20"
      ],
      "execution_count": 0,
      "outputs": []
    },
    {
      "cell_type": "markdown",
      "metadata": {
        "id": "L1E2L-a60DFh",
        "colab_type": "text"
      },
      "source": [
        "# 2-Hidden layer architecture (784-450-190-10 architecture)¶\n",
        "### Using MLP+Adam+ReLU"
      ]
    },
    {
      "cell_type": "code",
      "metadata": {
        "id": "xaQjjjzZzpPV",
        "colab_type": "code",
        "colab": {}
      },
      "source": [
        "# https://keras.io/getting-started/sequential-model-guide/\n",
        "\n",
        "# The Sequential model is a linear stack of layers.\n",
        "# you can create a Sequential model by passing a list of layer instances to the constructor:\n",
        "\n",
        "# model = Sequential([\n",
        "#     Dense(32, input_shape=(784,)),\n",
        "#     Activation('relu'),\n",
        "#     Dense(10),\n",
        "#     Activation('softmax'),\n",
        "# ])\n",
        "\n",
        "# You can also simply add layers via the .add() method:\n",
        "\n",
        "# model = Sequential()\n",
        "# model.add(Dense(32, input_dim=784))\n",
        "# model.add(Activation('relu'))\n",
        "\n",
        "###\n",
        "\n",
        "# https://keras.io/layers/core/\n",
        "\n",
        "# keras.layers.Dense(units, activation=None, use_bias=True, kernel_initializer='glorot_uniform', \n",
        "# bias_initializer='zeros', kernel_regularizer=None, bias_regularizer=None, activity_regularizer=None, \n",
        "# kernel_constraint=None, bias_constraint=None)\n",
        "\n",
        "# Dense implements the operation: output = activation(dot(input, kernel) + bias) where\n",
        "# activation is the element-wise activation function passed as the activation argument, \n",
        "# kernel is a weights matrix created by the layer, and \n",
        "# bias is a bias vector created by the layer (only applicable if use_bias is True).\n",
        "\n",
        "# output = activation(dot(input, kernel) + bias)  => y = activation(WT. X + b)\n",
        "\n",
        "####\n",
        "\n",
        "# https://keras.io/activations/\n",
        "\n",
        "# Activations can either be used through an Activation layer, or through the activation argument supported by all forward layers:\n",
        "\n",
        "# from keras.layers import Activation, Dense\n",
        "\n",
        "# model.add(Dense(64))\n",
        "# model.add(Activation('tanh'))\n",
        "\n",
        "# This is equivalent to:\n",
        "# model.add(Dense(64, activation='tanh'))\n",
        "\n",
        "# there are many activation functions ar available ex: tanh, relu, softmax\n",
        "\n",
        "\n",
        "from keras.models import Sequential \n",
        "from keras.layers import Dense, Activation \n"
      ],
      "execution_count": 0,
      "outputs": []
    },
    {
      "cell_type": "code",
      "metadata": {
        "id": "hGCLkxql07mr",
        "colab_type": "code",
        "outputId": "86e3be7f-370b-4f0f-e41e-e734875c10b1",
        "colab": {
          "base_uri": "https://localhost:8080/",
          "height": 238
        }
      },
      "source": [
        "# Multilayer perceptron\n",
        "\n",
        "model_relu = Sequential()\n",
        "model_relu.add(Dense(450, activation='relu', input_shape=(input_dim,)))\n",
        "model_relu.add(Dense(190, activation='relu'))\n",
        "model_relu.add(Dense(output_dim, activation='softmax'))\n",
        "\n",
        "model_relu.summary()"
      ],
      "execution_count": 0,
      "outputs": [
        {
          "output_type": "stream",
          "text": [
            "_________________________________________________________________\n",
            "Layer (type)                 Output Shape              Param #   \n",
            "=================================================================\n",
            "dense_105 (Dense)            (None, 450)               353250    \n",
            "_________________________________________________________________\n",
            "dense_106 (Dense)            (None, 190)               85690     \n",
            "_________________________________________________________________\n",
            "dense_107 (Dense)            (None, 10)                1910      \n",
            "=================================================================\n",
            "Total params: 440,850\n",
            "Trainable params: 440,850\n",
            "Non-trainable params: 0\n",
            "_________________________________________________________________\n"
          ],
          "name": "stdout"
        }
      ]
    },
    {
      "cell_type": "code",
      "metadata": {
        "id": "ZLRFNAwB12ix",
        "colab_type": "code",
        "outputId": "c9dace47-5d28-447e-d05e-30433aede34c",
        "colab": {
          "base_uri": "https://localhost:8080/",
          "height": 714
        }
      },
      "source": [
        "model_relu.compile(optimizer='adam', loss='categorical_crossentropy', metrics=['accuracy'])\n",
        "\n",
        "history11 = model_relu.fit(X_train, Y_train, batch_size=batch_size, epochs=nb_epoch, verbose=1, validation_data=(X_test, Y_test))"
      ],
      "execution_count": 0,
      "outputs": [
        {
          "output_type": "stream",
          "text": [
            "Train on 60000 samples, validate on 10000 samples\n",
            "Epoch 1/20\n",
            "60000/60000 [==============================] - 12s 201us/step - loss: 0.9218 - acc: 0.7286 - val_loss: 0.4340 - val_acc: 0.8705\n",
            "Epoch 2/20\n",
            "60000/60000 [==============================] - 8s 132us/step - loss: 0.3778 - acc: 0.8894 - val_loss: 0.3312 - val_acc: 0.9028\n",
            "Epoch 3/20\n",
            "60000/60000 [==============================] - 8s 132us/step - loss: 0.3192 - acc: 0.9070 - val_loss: 0.2995 - val_acc: 0.9106\n",
            "Epoch 4/20\n",
            "60000/60000 [==============================] - 8s 132us/step - loss: 0.2847 - acc: 0.9176 - val_loss: 0.2691 - val_acc: 0.9178\n",
            "Epoch 5/20\n",
            "60000/60000 [==============================] - 8s 132us/step - loss: 0.2564 - acc: 0.9250 - val_loss: 0.2427 - val_acc: 0.9279\n",
            "Epoch 6/20\n",
            "60000/60000 [==============================] - 8s 133us/step - loss: 0.2286 - acc: 0.9331 - val_loss: 0.2209 - val_acc: 0.9329\n",
            "Epoch 7/20\n",
            "60000/60000 [==============================] - 8s 132us/step - loss: 0.2067 - acc: 0.9397 - val_loss: 0.1945 - val_acc: 0.9428\n",
            "Epoch 8/20\n",
            "60000/60000 [==============================] - 8s 130us/step - loss: 0.1844 - acc: 0.9457 - val_loss: 0.1821 - val_acc: 0.9475\n",
            "Epoch 9/20\n",
            "60000/60000 [==============================] - 8s 131us/step - loss: 0.1664 - acc: 0.9509 - val_loss: 0.1694 - val_acc: 0.9475\n",
            "Epoch 10/20\n",
            "60000/60000 [==============================] - 8s 131us/step - loss: 0.1511 - acc: 0.9558 - val_loss: 0.1547 - val_acc: 0.9535\n",
            "Epoch 11/20\n",
            "60000/60000 [==============================] - 8s 130us/step - loss: 0.1371 - acc: 0.9603 - val_loss: 0.1447 - val_acc: 0.9577\n",
            "Epoch 12/20\n",
            "60000/60000 [==============================] - 8s 130us/step - loss: 0.1262 - acc: 0.9627 - val_loss: 0.1365 - val_acc: 0.9588\n",
            "Epoch 13/20\n",
            "60000/60000 [==============================] - 8s 132us/step - loss: 0.1155 - acc: 0.9661 - val_loss: 0.1239 - val_acc: 0.9618\n",
            "Epoch 14/20\n",
            "60000/60000 [==============================] - 8s 132us/step - loss: 0.1061 - acc: 0.9690 - val_loss: 0.1187 - val_acc: 0.9640\n",
            "Epoch 15/20\n",
            "60000/60000 [==============================] - 8s 131us/step - loss: 0.0975 - acc: 0.9709 - val_loss: 0.1093 - val_acc: 0.9662\n",
            "Epoch 16/20\n",
            "60000/60000 [==============================] - 8s 132us/step - loss: 0.0903 - acc: 0.9731 - val_loss: 0.1034 - val_acc: 0.9683\n",
            "Epoch 17/20\n",
            "60000/60000 [==============================] - 8s 132us/step - loss: 0.0834 - acc: 0.9748 - val_loss: 0.1016 - val_acc: 0.9696\n",
            "Epoch 18/20\n",
            "60000/60000 [==============================] - 8s 132us/step - loss: 0.0776 - acc: 0.9769 - val_loss: 0.0978 - val_acc: 0.9697\n",
            "Epoch 19/20\n",
            "60000/60000 [==============================] - 8s 138us/step - loss: 0.0714 - acc: 0.9789 - val_loss: 0.0930 - val_acc: 0.9712\n",
            "Epoch 20/20\n",
            "60000/60000 [==============================] - 8s 131us/step - loss: 0.0661 - acc: 0.9802 - val_loss: 0.0952 - val_acc: 0.9708\n"
          ],
          "name": "stdout"
        }
      ]
    },
    {
      "cell_type": "code",
      "metadata": {
        "id": "77-D4W9Z4uvj",
        "colab_type": "code",
        "outputId": "2861f942-53ae-44e2-86fd-893c693dd019",
        "colab": {
          "base_uri": "https://localhost:8080/",
          "height": 317
        }
      },
      "source": [
        "%matplotlib inline\n",
        "score = model_relu.evaluate(X_test, Y_test, verbose=0) \n",
        "score1=score[0]\n",
        "score2=score[1]\n",
        "train_acc1=history11.history['acc']\n",
        "print('Test score:', score[0]) \n",
        "print('Test accuracy:', score[1])\n",
        "\n",
        "fig,ax11 = plt.subplots(1,1)\n",
        "ax11.set_xlabel('epoch') ; ax.set_ylabel('Categorical Crossentropy Loss')\n",
        "\n",
        "# list of epoch numbers\n",
        "x = list(range(1,nb_epoch+1))\n",
        "\n",
        "# print(history.history.keys())\n",
        "# dict_keys(['val_loss', 'val_acc', 'loss', 'acc'])\n",
        "# history = model_drop.fit(X_train, Y_train, batch_size=batch_size, epochs=nb_epoch, verbose=1, validation_data=(X_test, Y_test))\n",
        "\n",
        "# we will get val_loss and val_acc only when you pass the paramter validation_data\n",
        "# val_loss : validation loss\n",
        "# val_acc : validation accuracy\n",
        "\n",
        "# loss : training loss\n",
        "# acc : train accuracy\n",
        "# for each key in histrory.histrory we will have a list of length equal to number of epochs\n",
        "\n",
        "vy11 = history.history['val_loss']\n",
        "ty11 = history.history['loss']\n",
        "plt_dynamic(x, vy11, ty11, ax11)\n"
      ],
      "execution_count": 0,
      "outputs": [
        {
          "output_type": "stream",
          "text": [
            "Test score: 0.0951651296434924\n",
            "Test accuracy: 0.9708\n"
          ],
          "name": "stdout"
        },
        {
          "output_type": "display_data",
          "data": {
            "image/png": "[encoded data removed]",
            "text/plain": [
              "<Figure size 432x288 with 1 Axes>"
            ]
          },
          "metadata": {
            "tags": []
          }
        }
      ]
    },
    {
      "cell_type": "markdown",
      "metadata": {
        "id": "2lHq0I98_KaU",
        "colab_type": "text"
      },
      "source": [
        "# MLP + Batch-Norm on hidden Layers + AdamOptimizer"
      ]
    },
    {
      "cell_type": "code",
      "metadata": {
        "id": "w_wii69E_PXw",
        "colab_type": "code",
        "outputId": "c564cd8c-a767-4149-c006-999ddf6d8326",
        "colab": {
          "base_uri": "https://localhost:8080/",
          "height": 306
        }
      },
      "source": [
        "# Multilayer perceptron\n",
        "\n",
        "# https://intoli.com/blog/neural-network-initialization/ \n",
        "# If we sample weights from a normal distribution N(0,σ) we satisfy this condition with σ=√(2/(ni+ni+1). \n",
        "# h1 =>  σ=√(2/(ni+ni+1) = 0.039  => N(0,σ) = N(0,0.039)\n",
        "# h2 =>  σ=√(2/(ni+ni+1) = 0.055  => N(0,σ) = N(0,0.055)\n",
        "# h1 =>  σ=√(2/(ni+ni+1) = 0.120  => N(0,σ) = N(0,0.120)\n",
        "\n",
        "from keras.layers.normalization import BatchNormalization\n",
        "\n",
        "model_batch = Sequential()\n",
        "\n",
        "model_batch.add(Dense(450, activation='relu', input_shape=(input_dim,), kernel_initializer=RandomNormal(mean=0.0, stddev=0.039, seed=None)))\n",
        "model_batch.add(BatchNormalization())\n",
        "\n",
        "model_batch.add(Dense(190, activation='relu', kernel_initializer=RandomNormal(mean=0.0, stddev=0.55, seed=None)) )\n",
        "model_batch.add(BatchNormalization())\n",
        "\n",
        "model_batch.add(Dense(output_dim, activation='softmax'))\n",
        "\n",
        "\n",
        "model_batch.summary()"
      ],
      "execution_count": 0,
      "outputs": [
        {
          "output_type": "stream",
          "text": [
            "_________________________________________________________________\n",
            "Layer (type)                 Output Shape              Param #   \n",
            "=================================================================\n",
            "dense_108 (Dense)            (None, 450)               353250    \n",
            "_________________________________________________________________\n",
            "batch_normalization_47 (Batc (None, 450)               1800      \n",
            "_________________________________________________________________\n",
            "dense_109 (Dense)            (None, 190)               85690     \n",
            "_________________________________________________________________\n",
            "batch_normalization_48 (Batc (None, 190)               760       \n",
            "_________________________________________________________________\n",
            "dense_110 (Dense)            (None, 10)                1910      \n",
            "=================================================================\n",
            "Total params: 443,410\n",
            "Trainable params: 442,130\n",
            "Non-trainable params: 1,280\n",
            "_________________________________________________________________\n"
          ],
          "name": "stdout"
        }
      ]
    },
    {
      "cell_type": "code",
      "metadata": {
        "id": "zJ-8Hw6c_4cM",
        "colab_type": "code",
        "outputId": "f5f8aaa6-822b-4343-e863-855d3334f41d",
        "colab": {
          "base_uri": "https://localhost:8080/",
          "height": 714
        }
      },
      "source": [
        "model_batch.compile(optimizer='adam', loss='categorical_crossentropy', metrics=['accuracy'])\n",
        "\n",
        "history12 = model_batch.fit(X_train, Y_train, batch_size=batch_size, epochs=nb_epoch, verbose=1, validation_data=(X_test, Y_test))"
      ],
      "execution_count": 0,
      "outputs": [
        {
          "output_type": "stream",
          "text": [
            "Train on 60000 samples, validate on 10000 samples\n",
            "Epoch 1/20\n",
            "60000/60000 [==============================] - 14s 225us/step - loss: 0.2242 - acc: 0.9347 - val_loss: 0.1561 - val_acc: 0.9522\n",
            "Epoch 2/20\n",
            "60000/60000 [==============================] - 10s 167us/step - loss: 0.1026 - acc: 0.9699 - val_loss: 0.1801 - val_acc: 0.9427\n",
            "Epoch 3/20\n",
            "60000/60000 [==============================] - 11s 188us/step - loss: 0.0711 - acc: 0.9787 - val_loss: 0.1056 - val_acc: 0.9684\n",
            "Epoch 4/20\n",
            "60000/60000 [==============================] - 12s 192us/step - loss: 0.0528 - acc: 0.9839 - val_loss: 0.1341 - val_acc: 0.9567\n",
            "Epoch 5/20\n",
            "60000/60000 [==============================] - 12s 204us/step - loss: 0.0461 - acc: 0.9862 - val_loss: 0.1320 - val_acc: 0.9599\n",
            "Epoch 6/20\n",
            "60000/60000 [==============================] - 12s 205us/step - loss: 0.0381 - acc: 0.9890 - val_loss: 0.0870 - val_acc: 0.9771\n",
            "Epoch 7/20\n",
            "60000/60000 [==============================] - 13s 216us/step - loss: 0.0285 - acc: 0.9917 - val_loss: 0.1011 - val_acc: 0.9715\n",
            "Epoch 8/20\n",
            "60000/60000 [==============================] - 13s 210us/step - loss: 0.0280 - acc: 0.9917 - val_loss: 0.0866 - val_acc: 0.9748\n",
            "Epoch 9/20\n",
            "60000/60000 [==============================] - 13s 215us/step - loss: 0.0234 - acc: 0.9925 - val_loss: 0.0892 - val_acc: 0.9754\n",
            "Epoch 10/20\n",
            "60000/60000 [==============================] - 12s 199us/step - loss: 0.0203 - acc: 0.9940 - val_loss: 0.1182 - val_acc: 0.9661\n",
            "Epoch 11/20\n",
            "60000/60000 [==============================] - 12s 207us/step - loss: 0.0189 - acc: 0.9943 - val_loss: 0.1220 - val_acc: 0.9672\n",
            "Epoch 12/20\n",
            "60000/60000 [==============================] - 12s 203us/step - loss: 0.0194 - acc: 0.9940 - val_loss: 0.1114 - val_acc: 0.9690\n",
            "Epoch 13/20\n",
            "60000/60000 [==============================] - 12s 195us/step - loss: 0.0141 - acc: 0.9957 - val_loss: 0.0874 - val_acc: 0.9768\n",
            "Epoch 14/20\n",
            "60000/60000 [==============================] - 13s 210us/step - loss: 0.0154 - acc: 0.9946 - val_loss: 0.0991 - val_acc: 0.9733\n",
            "Epoch 15/20\n",
            "60000/60000 [==============================] - 12s 206us/step - loss: 0.0118 - acc: 0.9964 - val_loss: 0.0843 - val_acc: 0.9782\n",
            "Epoch 16/20\n",
            "60000/60000 [==============================] - 12s 196us/step - loss: 0.0127 - acc: 0.9960 - val_loss: 0.1030 - val_acc: 0.9738\n",
            "Epoch 17/20\n",
            "60000/60000 [==============================] - 12s 208us/step - loss: 0.0142 - acc: 0.9953 - val_loss: 0.1314 - val_acc: 0.9676\n",
            "Epoch 18/20\n",
            "60000/60000 [==============================] - 12s 199us/step - loss: 0.0120 - acc: 0.9960 - val_loss: 0.1079 - val_acc: 0.9723\n",
            "Epoch 19/20\n",
            "60000/60000 [==============================] - 12s 208us/step - loss: 0.0102 - acc: 0.9968 - val_loss: 0.0906 - val_acc: 0.9776\n",
            "Epoch 20/20\n",
            "60000/60000 [==============================] - 14s 229us/step - loss: 0.0091 - acc: 0.9973 - val_loss: 0.1134 - val_acc: 0.9744\n"
          ],
          "name": "stdout"
        }
      ]
    },
    {
      "cell_type": "code",
      "metadata": {
        "id": "yCmv_SXXGGbg",
        "colab_type": "code",
        "outputId": "258e8fa1-e851-4e68-9b92-f3b3de9e049f",
        "colab": {
          "base_uri": "https://localhost:8080/",
          "height": 317
        }
      },
      "source": [
        "score = model_batch.evaluate(X_test, Y_test, verbose=0) \n",
        "score3=score[0]\n",
        "score4=score[1]\n",
        "train_acc2=history11.history['acc']\n",
        "print('Test score:', score[0]) \n",
        "print('Test accuracy:', score[1])\n",
        "\n",
        "fig,ax12 = plt.subplots(1,1)\n",
        "ax12.set_xlabel('epoch') ; ax.set_ylabel('Categorical Crossentropy Loss')\n",
        "\n",
        "# list of epoch numbers\n",
        "x = list(range(1,nb_epoch+1))\n",
        "\n",
        "# print(history.history.keys())\n",
        "# dict_keys(['val_loss', 'val_acc', 'loss', 'acc'])\n",
        "# history = model_drop.fit(X_train, Y_train, batch_size=batch_size, epochs=nb_epoch, verbose=1, validation_data=(X_test, Y_test))\n",
        "\n",
        "# we will get val_loss and val_acc only when you pass the paramter validation_data\n",
        "# val_loss : validation loss\n",
        "# val_acc : validation accuracy\n",
        "\n",
        "# loss : training loss\n",
        "# acc : train accuracy\n",
        "# for each key in histrory.histrory we will have a list of length equal to number of epochs\n",
        "\n",
        "vy12 = history.history['val_loss']\n",
        "ty12 = history.history['loss']\n",
        "plt_dynamic(x, vy12, ty12, ax12)\n"
      ],
      "execution_count": 0,
      "outputs": [
        {
          "output_type": "stream",
          "text": [
            "Test score: 0.11341167752964976\n",
            "Test accuracy: 0.9744\n"
          ],
          "name": "stdout"
        },
        {
          "output_type": "display_data",
          "data": {
            "image/png": "[encoded data removed]",
            "text/plain": [
              "<Figure size 432x288 with 1 Axes>"
            ]
          },
          "metadata": {
            "tags": []
          }
        }
      ]
    },
    {
      "cell_type": "markdown",
      "metadata": {
        "id": "_2VvDUoIHDqP",
        "colab_type": "text"
      },
      "source": [
        "# MLP + Dropout + AdamOptimizer "
      ]
    },
    {
      "cell_type": "code",
      "metadata": {
        "id": "i8nOb9z-HGku",
        "colab_type": "code",
        "outputId": "a83a297f-a9d3-4046-afc8-83e6eb240fc9",
        "colab": {
          "base_uri": "https://localhost:8080/",
          "height": 374
        }
      },
      "source": [
        "# https://stackoverflow.com/questions/34716454/where-do-i-call-the-batchnormalization-function-in-keras\n",
        "\n",
        "from keras.layers import Dropout\n",
        "\n",
        "model_drop = Sequential()\n",
        "\n",
        "model_drop.add(Dense(512, activation='relu', input_shape=(input_dim,), kernel_initializer=RandomNormal(mean=0.0, stddev=0.039, seed=None)))\n",
        "model_drop.add(BatchNormalization())\n",
        "model_drop.add(Dropout(0.5))\n",
        "\n",
        "model_drop.add(Dense(128, activation='relu', kernel_initializer=RandomNormal(mean=0.0, stddev=0.55, seed=None)) )\n",
        "model_drop.add(BatchNormalization())\n",
        "model_drop.add(Dropout(0.5))\n",
        "\n",
        "model_drop.add(Dense(output_dim, activation='softmax'))\n",
        "\n",
        "\n",
        "model_drop.summary()"
      ],
      "execution_count": 0,
      "outputs": [
        {
          "output_type": "stream",
          "text": [
            "_________________________________________________________________\n",
            "Layer (type)                 Output Shape              Param #   \n",
            "=================================================================\n",
            "dense_111 (Dense)            (None, 512)               401920    \n",
            "_________________________________________________________________\n",
            "batch_normalization_49 (Batc (None, 512)               2048      \n",
            "_________________________________________________________________\n",
            "dropout_18 (Dropout)         (None, 512)               0         \n",
            "_________________________________________________________________\n",
            "dense_112 (Dense)            (None, 128)               65664     \n",
            "_________________________________________________________________\n",
            "batch_normalization_50 (Batc (None, 128)               512       \n",
            "_________________________________________________________________\n",
            "dropout_19 (Dropout)         (None, 128)               0         \n",
            "_________________________________________________________________\n",
            "dense_113 (Dense)            (None, 10)                1290      \n",
            "=================================================================\n",
            "Total params: 471,434\n",
            "Trainable params: 470,154\n",
            "Non-trainable params: 1,280\n",
            "_________________________________________________________________\n"
          ],
          "name": "stdout"
        }
      ]
    },
    {
      "cell_type": "code",
      "metadata": {
        "id": "Z_E1XqdcHIuc",
        "colab_type": "code",
        "outputId": "bbec76cf-4627-4b5b-be7a-984bd69ffe68",
        "colab": {
          "base_uri": "https://localhost:8080/",
          "height": 714
        }
      },
      "source": [
        "model_drop.compile(optimizer='adam', loss='categorical_crossentropy', metrics=['accuracy'])\n",
        "\n",
        "history13 = model_drop.fit(X_train, Y_train, batch_size=batch_size, epochs=nb_epoch, verbose=1, validation_data=(X_test, Y_test))"
      ],
      "execution_count": 0,
      "outputs": [
        {
          "output_type": "stream",
          "text": [
            "Train on 60000 samples, validate on 10000 samples\n",
            "Epoch 1/20\n",
            "60000/60000 [==============================] - 17s 285us/step - loss: 0.5645 - acc: 0.8257 - val_loss: 0.2349 - val_acc: 0.9285\n",
            "Epoch 2/20\n",
            "60000/60000 [==============================] - 12s 208us/step - loss: 0.3656 - acc: 0.8893 - val_loss: 0.2027 - val_acc: 0.9400\n",
            "Epoch 3/20\n",
            "60000/60000 [==============================] - 12s 201us/step - loss: 0.3217 - acc: 0.9028 - val_loss: 0.1811 - val_acc: 0.9449\n",
            "Epoch 4/20\n",
            "60000/60000 [==============================] - 13s 213us/step - loss: 0.3003 - acc: 0.9094 - val_loss: 0.1764 - val_acc: 0.9435\n",
            "Epoch 5/20\n",
            "60000/60000 [==============================] - 13s 216us/step - loss: 0.2810 - acc: 0.9154 - val_loss: 0.1536 - val_acc: 0.9513\n",
            "Epoch 6/20\n",
            "60000/60000 [==============================] - 13s 215us/step - loss: 0.2691 - acc: 0.9181 - val_loss: 0.1475 - val_acc: 0.9556\n",
            "Epoch 7/20\n",
            "60000/60000 [==============================] - 13s 210us/step - loss: 0.2584 - acc: 0.9223 - val_loss: 0.1469 - val_acc: 0.9559\n",
            "Epoch 8/20\n",
            "60000/60000 [==============================] - 13s 220us/step - loss: 0.2491 - acc: 0.9242 - val_loss: 0.1493 - val_acc: 0.9541\n",
            "Epoch 9/20\n",
            "60000/60000 [==============================] - 13s 212us/step - loss: 0.2418 - acc: 0.9269 - val_loss: 0.1503 - val_acc: 0.9541\n",
            "Epoch 10/20\n",
            "60000/60000 [==============================] - 13s 216us/step - loss: 0.2364 - acc: 0.9280 - val_loss: 0.1322 - val_acc: 0.9598\n",
            "Epoch 11/20\n",
            "60000/60000 [==============================] - 12s 207us/step - loss: 0.2361 - acc: 0.9284 - val_loss: 0.1288 - val_acc: 0.9610\n",
            "Epoch 12/20\n",
            "60000/60000 [==============================] - 12s 195us/step - loss: 0.2322 - acc: 0.9289 - val_loss: 0.1346 - val_acc: 0.9592\n",
            "Epoch 13/20\n",
            "60000/60000 [==============================] - 12s 197us/step - loss: 0.2257 - acc: 0.9310 - val_loss: 0.1305 - val_acc: 0.9593\n",
            "Epoch 14/20\n",
            "60000/60000 [==============================] - 12s 202us/step - loss: 0.2213 - acc: 0.9321 - val_loss: 0.1233 - val_acc: 0.9621\n",
            "Epoch 15/20\n",
            "60000/60000 [==============================] - 12s 199us/step - loss: 0.2211 - acc: 0.9315 - val_loss: 0.1188 - val_acc: 0.9641\n",
            "Epoch 16/20\n",
            "60000/60000 [==============================] - 12s 207us/step - loss: 0.2193 - acc: 0.9332 - val_loss: 0.1198 - val_acc: 0.9638\n",
            "Epoch 17/20\n",
            "60000/60000 [==============================] - 12s 194us/step - loss: 0.2127 - acc: 0.9359 - val_loss: 0.1141 - val_acc: 0.9649\n",
            "Epoch 18/20\n",
            "60000/60000 [==============================] - 12s 205us/step - loss: 0.2088 - acc: 0.9363 - val_loss: 0.1115 - val_acc: 0.9659\n",
            "Epoch 19/20\n",
            "60000/60000 [==============================] - 12s 199us/step - loss: 0.2070 - acc: 0.9359 - val_loss: 0.1249 - val_acc: 0.9602\n",
            "Epoch 20/20\n",
            "60000/60000 [==============================] - 12s 204us/step - loss: 0.2028 - acc: 0.9376 - val_loss: 0.1094 - val_acc: 0.9652\n"
          ],
          "name": "stdout"
        }
      ]
    },
    {
      "cell_type": "code",
      "metadata": {
        "id": "9U2EF7KGIwrz",
        "colab_type": "code",
        "outputId": "ea0ba9b3-8184-47aa-f519-3b44c3236f15",
        "colab": {
          "base_uri": "https://localhost:8080/",
          "height": 317
        }
      },
      "source": [
        "score = model_drop.evaluate(X_test, Y_test, verbose=0) \n",
        "score5=score[0]\n",
        "score6=score[1]\n",
        "train_acc3=history11.history['acc']\n",
        "print('Test score:', score[0]) \n",
        "print('Test accuracy:', score[1])\n",
        "\n",
        "fig,ax13 = plt.subplots(1,1)\n",
        "ax13.set_xlabel('epoch') ; ax.set_ylabel('Categorical Crossentropy Loss')\n",
        "\n",
        "# list of epoch numbers\n",
        "x = list(range(1,nb_epoch+1))\n",
        "\n",
        "# print(history.history.keys())\n",
        "# dict_keys(['val_loss', 'val_acc', 'loss', 'acc'])\n",
        "# history = model_drop.fit(X_train, Y_train, batch_size=batch_size, epochs=nb_epoch, verbose=1, validation_data=(X_test, Y_test))\n",
        "\n",
        "# we will get val_loss and val_acc only when you pass the paramter validation_data\n",
        "# val_loss : validation loss\n",
        "# val_acc : validation accuracy\n",
        "\n",
        "# loss : training loss\n",
        "# acc : train accuracy\n",
        "# for each key in histrory.histrory we will have a list of length equal to number of epochs\n",
        "\n",
        "vy13 = history.history['val_loss']\n",
        "ty13 = history.history['loss']\n",
        "plt_dynamic(x, vy13, ty13, ax13)"
      ],
      "execution_count": 0,
      "outputs": [
        {
          "output_type": "stream",
          "text": [
            "Test score: 0.10941378992907703\n",
            "Test accuracy: 0.9652\n"
          ],
          "name": "stdout"
        },
        {
          "output_type": "display_data",
          "data": {
            "image/png": "[encoded data removed]",
            "text/plain": [
              "<Figure size 432x288 with 1 Axes>"
            ]
          },
          "metadata": {
            "tags": []
          }
        }
      ]
    },
    {
      "cell_type": "markdown",
      "metadata": {
        "id": "8TuNLTPyMMNP",
        "colab_type": "text"
      },
      "source": [
        "\n",
        "# 3-Hidden layer architecture (784-450-190-100-10 architecture)¶\n",
        "#### Using MLP+Adam+ReLU"
      ]
    },
    {
      "cell_type": "code",
      "metadata": {
        "id": "ogkwpTS2Nttt",
        "colab_type": "code",
        "outputId": "656fe920-540a-448e-d29d-75804acacf12",
        "colab": {
          "base_uri": "https://localhost:8080/",
          "height": 272
        }
      },
      "source": [
        "# Multilayer perceptron\n",
        "\n",
        "model_relu = Sequential()\n",
        "model_relu.add(Dense(450, activation='relu', input_shape=(input_dim,)))\n",
        "model_relu.add(Dense(190, activation='relu'))\n",
        "model_relu.add(Dense(100, activation = 'relu'))\n",
        "model_relu.add(Dense(output_dim, activation='softmax'))\n",
        "\n",
        "model_relu.summary()"
      ],
      "execution_count": 0,
      "outputs": [
        {
          "output_type": "stream",
          "text": [
            "_________________________________________________________________\n",
            "Layer (type)                 Output Shape              Param #   \n",
            "=================================================================\n",
            "dense_114 (Dense)            (None, 450)               353250    \n",
            "_________________________________________________________________\n",
            "dense_115 (Dense)            (None, 190)               85690     \n",
            "_________________________________________________________________\n",
            "dense_116 (Dense)            (None, 100)               19100     \n",
            "_________________________________________________________________\n",
            "dense_117 (Dense)            (None, 10)                1010      \n",
            "=================================================================\n",
            "Total params: 459,050\n",
            "Trainable params: 459,050\n",
            "Non-trainable params: 0\n",
            "_________________________________________________________________\n"
          ],
          "name": "stdout"
        }
      ]
    },
    {
      "cell_type": "code",
      "metadata": {
        "id": "Cm3EGak-N09j",
        "colab_type": "code",
        "outputId": "84494b51-d470-4074-ba97-e4e3451a82ef",
        "colab": {
          "base_uri": "https://localhost:8080/",
          "height": 714
        }
      },
      "source": [
        "model_relu.compile(optimizer='adam', loss='categorical_crossentropy', metrics=['accuracy'])\n",
        "\n",
        "history21 = model_relu.fit(X_train, Y_train, batch_size=batch_size, epochs=nb_epoch, verbose=1, validation_data=(X_test, Y_test))"
      ],
      "execution_count": 0,
      "outputs": [
        {
          "output_type": "stream",
          "text": [
            "Train on 60000 samples, validate on 10000 samples\n",
            "Epoch 1/20\n",
            "60000/60000 [==============================] - 16s 258us/step - loss: 0.8577 - acc: 0.7218 - val_loss: 0.4278 - val_acc: 0.8751\n",
            "Epoch 2/20\n",
            "60000/60000 [==============================] - 11s 187us/step - loss: 0.3672 - acc: 0.8914 - val_loss: 0.3073 - val_acc: 0.9121\n",
            "Epoch 3/20\n",
            "60000/60000 [==============================] - 11s 187us/step - loss: 0.2936 - acc: 0.9121 - val_loss: 0.2564 - val_acc: 0.9248\n",
            "Epoch 4/20\n",
            "60000/60000 [==============================] - 11s 185us/step - loss: 0.2465 - acc: 0.9271 - val_loss: 0.2227 - val_acc: 0.9345\n",
            "Epoch 5/20\n",
            "60000/60000 [==============================] - 11s 184us/step - loss: 0.2049 - acc: 0.9386 - val_loss: 0.1883 - val_acc: 0.9413\n",
            "Epoch 6/20\n",
            "60000/60000 [==============================] - 11s 181us/step - loss: 0.1708 - acc: 0.9495 - val_loss: 0.1642 - val_acc: 0.9497\n",
            "Epoch 7/20\n",
            "60000/60000 [==============================] - 11s 188us/step - loss: 0.1466 - acc: 0.9564 - val_loss: 0.1429 - val_acc: 0.9567\n",
            "Epoch 8/20\n",
            "60000/60000 [==============================] - 11s 188us/step - loss: 0.1247 - acc: 0.9635 - val_loss: 0.1266 - val_acc: 0.9617\n",
            "Epoch 9/20\n",
            "60000/60000 [==============================] - 11s 190us/step - loss: 0.1092 - acc: 0.9668 - val_loss: 0.1235 - val_acc: 0.9620\n",
            "Epoch 10/20\n",
            "60000/60000 [==============================] - 11s 185us/step - loss: 0.0980 - acc: 0.9707 - val_loss: 0.1364 - val_acc: 0.9584\n",
            "Epoch 11/20\n",
            "60000/60000 [==============================] - 11s 184us/step - loss: 0.0872 - acc: 0.9738 - val_loss: 0.1061 - val_acc: 0.9680\n",
            "Epoch 12/20\n",
            "60000/60000 [==============================] - 11s 180us/step - loss: 0.0790 - acc: 0.9761 - val_loss: 0.0949 - val_acc: 0.9691\n",
            "Epoch 13/20\n",
            "60000/60000 [==============================] - 11s 182us/step - loss: 0.0724 - acc: 0.9780 - val_loss: 0.0877 - val_acc: 0.9731\n",
            "Epoch 14/20\n",
            "60000/60000 [==============================] - 11s 184us/step - loss: 0.0630 - acc: 0.9810 - val_loss: 0.0904 - val_acc: 0.9717\n",
            "Epoch 15/20\n",
            "60000/60000 [==============================] - 11s 178us/step - loss: 0.0573 - acc: 0.9817 - val_loss: 0.0887 - val_acc: 0.9734\n",
            "Epoch 16/20\n",
            "60000/60000 [==============================] - 11s 176us/step - loss: 0.0511 - acc: 0.9845 - val_loss: 0.0872 - val_acc: 0.9731\n",
            "Epoch 17/20\n",
            "60000/60000 [==============================] - 11s 177us/step - loss: 0.0476 - acc: 0.9846 - val_loss: 0.0836 - val_acc: 0.9735\n",
            "Epoch 18/20\n",
            "60000/60000 [==============================] - 11s 187us/step - loss: 0.0414 - acc: 0.9872 - val_loss: 0.0835 - val_acc: 0.9737\n",
            "Epoch 19/20\n",
            "60000/60000 [==============================] - 11s 184us/step - loss: 0.0372 - acc: 0.9883 - val_loss: 0.0860 - val_acc: 0.9756\n",
            "Epoch 20/20\n",
            "60000/60000 [==============================] - 11s 178us/step - loss: 0.0343 - acc: 0.9891 - val_loss: 0.0774 - val_acc: 0.9772\n"
          ],
          "name": "stdout"
        }
      ]
    },
    {
      "cell_type": "code",
      "metadata": {
        "id": "Rziezt9NO7d8",
        "colab_type": "code",
        "outputId": "13d00480-f144-4f53-d095-1f1752006462",
        "colab": {
          "base_uri": "https://localhost:8080/",
          "height": 317
        }
      },
      "source": [
        "score = model_drop.evaluate(X_test, Y_test, verbose=0) \n",
        "score7=score[0]\n",
        "score8=score[1]\n",
        "train_acc4=history11.history['acc']\n",
        "print('Test score:', score[0]) \n",
        "print('Test accuracy:', score[1])\n",
        "\n",
        "fig,ax13 = plt.subplots(1,1)\n",
        "ax13.set_xlabel('epoch') ; ax.set_ylabel('Categorical Crossentropy Loss')\n",
        "\n",
        "# list of epoch numbers\n",
        "x = list(range(1,nb_epoch+1))\n",
        "\n",
        "# print(history.history.keys())\n",
        "# dict_keys(['val_loss', 'val_acc', 'loss', 'acc'])\n",
        "# history = model_drop.fit(X_train, Y_train, batch_size=batch_size, epochs=nb_epoch, verbose=1, validation_data=(X_test, Y_test))\n",
        "\n",
        "# we will get val_loss and val_acc only when you pass the paramter validation_data\n",
        "# val_loss : validation loss\n",
        "# val_acc : validation accuracy\n",
        "\n",
        "# loss : training loss\n",
        "# acc : train accuracy\n",
        "# for each key in histrory.histrory we will have a list of length equal to number of epochs\n",
        "\n",
        "vy13 = history.history['val_loss']\n",
        "ty13 = history.history['loss']\n",
        "plt_dynamic(x, vy13, ty13, ax13)"
      ],
      "execution_count": 205,
      "outputs": [
        {
          "output_type": "stream",
          "text": [
            "Test score: 0.9469478063583374\n",
            "Test accuracy: 0.8531\n"
          ],
          "name": "stdout"
        },
        {
          "output_type": "display_data",
          "data": {
            "image/png": "[encoded data removed]",
            "text/plain": [
              "<Figure size 432x288 with 1 Axes>"
            ]
          },
          "metadata": {
            "tags": []
          }
        }
      ]
    },
    {
      "cell_type": "markdown",
      "metadata": {
        "id": "oV4-ys8HdwSn",
        "colab_type": "text"
      },
      "source": [
        "# MLP + Batch-Norm on hidden Layers + AdamOptimizer "
      ]
    },
    {
      "cell_type": "code",
      "metadata": {
        "id": "Ilw8cRZkdy3o",
        "colab_type": "code",
        "colab": {}
      },
      "source": [
        "from keras.layers.normalization import BatchNormalization\n",
        "\n",
        "model_batch = Sequential()\n",
        "\n",
        "model_relu.add(Dense(352, activation='relu', input_shape=(input_dim,),\n",
        "                     kernel_initializer=he_normal(seed=None)))\n",
        "model_batch.add(BatchNormalization())\n",
        "model_relu.add(Dense(164, activation='relu', \n",
        "                     kernel_initializer=he_normal(seed=None)) )\n",
        "model_batch.add(BatchNormalization())\n",
        "                                                    \n",
        "model_relu.add(Dense(124, activation='relu', \n",
        "                     kernel_initializer=he_normal(seed=None)) )\n",
        "model_batch.add(BatchNormalization())\n",
        "\n",
        "model_batch.add(Dense(output_dim, activation='softmax'))"
      ],
      "execution_count": 0,
      "outputs": []
    },
    {
      "cell_type": "code",
      "metadata": {
        "id": "mGvVhqEVeDLX",
        "colab_type": "code",
        "outputId": "24cdc3e6-3230-412f-da2a-9ff648f54979",
        "colab": {
          "base_uri": "https://localhost:8080/",
          "height": 714
        }
      },
      "source": [
        "\n",
        "model_batch.compile(optimizer='adam', loss='categorical_crossentropy', \n",
        "                    metrics=['accuracy'])\n",
        "\n",
        "history22 = model_batch.fit(X_train, Y_train, \n",
        "                           batch_size=batch_size,\n",
        "                           epochs=nb_epoch, verbose=1, \n",
        "                           validation_data=(X_test, Y_test))"
      ],
      "execution_count": 0,
      "outputs": [
        {
          "output_type": "stream",
          "text": [
            "Train on 60000 samples, validate on 10000 samples\n",
            "Epoch 1/20\n",
            "60000/60000 [==============================] - 15s 250us/step - loss: 0.4990 - acc: 0.8523 - val_loss: 2.5404 - val_acc: 0.4955\n",
            "Epoch 2/20\n",
            "60000/60000 [==============================] - 10s 166us/step - loss: 0.3040 - acc: 0.9134 - val_loss: 1.1362 - val_acc: 0.6734\n",
            "Epoch 3/20\n",
            "60000/60000 [==============================] - 10s 165us/step - loss: 0.2858 - acc: 0.9184 - val_loss: 3.6013 - val_acc: 0.5283\n",
            "Epoch 4/20\n",
            "60000/60000 [==============================] - 10s 163us/step - loss: 0.2764 - acc: 0.9224 - val_loss: 3.7374 - val_acc: 0.3750\n",
            "Epoch 5/20\n",
            "60000/60000 [==============================] - 10s 164us/step - loss: 0.2709 - acc: 0.9233 - val_loss: 4.2437 - val_acc: 0.4488\n",
            "Epoch 6/20\n",
            "60000/60000 [==============================] - 10s 160us/step - loss: 0.2677 - acc: 0.9244 - val_loss: 1.9153 - val_acc: 0.6519\n",
            "Epoch 7/20\n",
            "60000/60000 [==============================] - 10s 162us/step - loss: 0.2655 - acc: 0.9250 - val_loss: 0.5382 - val_acc: 0.8409\n",
            "Epoch 8/20\n",
            "60000/60000 [==============================] - 10s 162us/step - loss: 0.2615 - acc: 0.9261 - val_loss: 7.4592 - val_acc: 0.4038\n",
            "Epoch 9/20\n",
            "60000/60000 [==============================] - 10s 163us/step - loss: 0.2582 - acc: 0.9275 - val_loss: 5.5114 - val_acc: 0.3871\n",
            "Epoch 10/20\n",
            "60000/60000 [==============================] - 10s 163us/step - loss: 0.2567 - acc: 0.9282 - val_loss: 7.8886 - val_acc: 0.4212\n",
            "Epoch 11/20\n",
            "60000/60000 [==============================] - 10s 163us/step - loss: 0.2559 - acc: 0.9285 - val_loss: 3.9144 - val_acc: 0.4137\n",
            "Epoch 12/20\n",
            "60000/60000 [==============================] - 10s 163us/step - loss: 0.2546 - acc: 0.9284 - val_loss: 2.8747 - val_acc: 0.5976\n",
            "Epoch 13/20\n",
            "60000/60000 [==============================] - 10s 161us/step - loss: 0.2548 - acc: 0.9282 - val_loss: 9.4566 - val_acc: 0.2741\n",
            "Epoch 14/20\n",
            "60000/60000 [==============================] - 10s 162us/step - loss: 0.2541 - acc: 0.9280 - val_loss: 6.3270 - val_acc: 0.3783\n",
            "Epoch 15/20\n",
            "60000/60000 [==============================] - 10s 162us/step - loss: 0.2540 - acc: 0.9291 - val_loss: 2.4010 - val_acc: 0.5218\n",
            "Epoch 16/20\n",
            "60000/60000 [==============================] - 10s 159us/step - loss: 0.2523 - acc: 0.9285 - val_loss: 2.4022 - val_acc: 0.5132\n",
            "Epoch 17/20\n",
            "60000/60000 [==============================] - 10s 161us/step - loss: 0.2520 - acc: 0.9292 - val_loss: 1.0584 - val_acc: 0.7357\n",
            "Epoch 18/20\n",
            "60000/60000 [==============================] - 10s 165us/step - loss: 0.2482 - acc: 0.9303 - val_loss: 1.3021 - val_acc: 0.7119\n",
            "Epoch 19/20\n",
            "60000/60000 [==============================] - 10s 162us/step - loss: 0.2511 - acc: 0.9297 - val_loss: 2.9985 - val_acc: 0.5412\n",
            "Epoch 20/20\n",
            "60000/60000 [==============================] - 10s 161us/step - loss: 0.2490 - acc: 0.9293 - val_loss: 7.0425 - val_acc: 0.2545\n"
          ],
          "name": "stdout"
        }
      ]
    },
    {
      "cell_type": "code",
      "metadata": {
        "id": "M_Gi5O5Pghrh",
        "colab_type": "code",
        "outputId": "942878bd-c493-4646-b660-6e8529805497",
        "colab": {
          "base_uri": "https://localhost:8080/",
          "height": 272
        }
      },
      "source": [
        "model_batch.summary()"
      ],
      "execution_count": 0,
      "outputs": [
        {
          "output_type": "stream",
          "text": [
            "_________________________________________________________________\n",
            "Layer (type)                 Output Shape              Param #   \n",
            "=================================================================\n",
            "batch_normalization_51 (Batc (None, 784)               3136      \n",
            "_________________________________________________________________\n",
            "batch_normalization_52 (Batc (None, 784)               3136      \n",
            "_________________________________________________________________\n",
            "batch_normalization_53 (Batc (None, 784)               3136      \n",
            "_________________________________________________________________\n",
            "dense_121 (Dense)            (None, 10)                7850      \n",
            "=================================================================\n",
            "Total params: 17,258\n",
            "Trainable params: 12,554\n",
            "Non-trainable params: 4,704\n",
            "_________________________________________________________________\n"
          ],
          "name": "stdout"
        }
      ]
    },
    {
      "cell_type": "code",
      "metadata": {
        "id": "I9PLpU58iXX8",
        "colab_type": "code",
        "outputId": "a879a2b3-19ae-4e93-bad8-edbf35df5ed4",
        "colab": {
          "base_uri": "https://localhost:8080/",
          "height": 317
        }
      },
      "source": [
        "\n",
        "score = model_batch.evaluate(X_test, Y_test, verbose=0) \n",
        "score9=score[0]\n",
        "score10=score[1]\n",
        "train_acc5=history11.history['acc']\n",
        "print('Test score:', score[0]) \n",
        "print('Test accuracy:', score[1])\n",
        "\n",
        "fig,ax22 = plt.subplots(1,1)\n",
        "ax22.set_xlabel('epoch') ; ax22.set_ylabel('Categorical Crossentropy Loss')\n",
        "\n",
        "# list of epoch numbers\n",
        "x = list(range(1,nb_epoch+1))\n",
        "\n",
        "vy22 = history22.history['val_loss']\n",
        "ty22 = history22.history['loss']\n",
        "plt_dynamic(x, vy22, ty22, ax22)"
      ],
      "execution_count": 0,
      "outputs": [
        {
          "output_type": "stream",
          "text": [
            "Test score: 7.042523400878906\n",
            "Test accuracy: 0.2545\n"
          ],
          "name": "stdout"
        },
        {
          "output_type": "display_data",
          "data": {
            "image/png": "[encoded data removed]",
            "text/plain": [
              "<Figure size 432x288 with 1 Axes>"
            ]
          },
          "metadata": {
            "tags": []
          }
        }
      ]
    },
    {
      "cell_type": "markdown",
      "metadata": {
        "id": "gSPNIZMvikUd",
        "colab_type": "text"
      },
      "source": [
        "#  MLP + Dropout + AdamOptimizer"
      ]
    },
    {
      "cell_type": "code",
      "metadata": {
        "id": "XfZVXdm1ily6",
        "colab_type": "code",
        "colab": {}
      },
      "source": [
        "# https://stackoverflow.com/questions/34716454/where-do-i-call-the-batchnormalization-function-in-keras\n",
        "\n",
        "from keras.layers import Dropout\n",
        "\n",
        "model_drop = Sequential()\n",
        "model_relu.add(Dense(352, activation='relu', input_shape=(input_dim,),\n",
        "                     kernel_initializer=he_normal(seed=None)))\n",
        "\n",
        "model_drop.add(BatchNormalization())\n",
        "model_drop.add(Dropout(0.5))\n",
        "model_relu.add(Dense(164, activation='relu', \n",
        "                     kernel_initializer=he_normal(seed=None)) )\n",
        "model_drop.add(BatchNormalization())\n",
        "model_drop.add(Dropout(0.5))\n",
        "\n",
        "                                                    \n",
        "model_relu.add(Dense(124, activation='relu', \n",
        "                     kernel_initializer=he_normal(seed=None)) )\n",
        "model_drop.add(BatchNormalization())\n",
        "model_drop.add(Dropout(0.5))\n",
        "\n",
        "model_drop.add(Dense(output_dim, activation='softmax'))"
      ],
      "execution_count": 0,
      "outputs": []
    },
    {
      "cell_type": "code",
      "metadata": {
        "id": "n0lDS3dDipvV",
        "colab_type": "code",
        "outputId": "452cf972-2300-44c8-bd0d-82ef2d4c7d51",
        "colab": {
          "base_uri": "https://localhost:8080/",
          "height": 714
        }
      },
      "source": [
        "model_drop.compile(optimizer='adam',\n",
        "                   loss='categorical_crossentropy',\n",
        "                   metrics=['accuracy'])\n",
        "\n",
        "history23 = model_drop.fit(X_train, Y_train,\n",
        "                         batch_size=batch_size,\n",
        "                         \n",
        "                         epochs=nb_epoch, verbose=1,\n",
        "                         validation_data=(X_test, Y_test))"
      ],
      "execution_count": 0,
      "outputs": [
        {
          "output_type": "stream",
          "text": [
            "Train on 60000 samples, validate on 10000 samples\n",
            "Epoch 1/20\n",
            "60000/60000 [==============================] - 21s 353us/step - loss: 1.3856 - acc: 0.5609 - val_loss: 0.4648 - val_acc: 0.8824\n",
            "Epoch 2/20\n",
            "60000/60000 [==============================] - 16s 265us/step - loss: 0.8712 - acc: 0.7147 - val_loss: 0.4242 - val_acc: 0.8942\n",
            "Epoch 3/20\n",
            "60000/60000 [==============================] - 16s 263us/step - loss: 0.8538 - acc: 0.7223 - val_loss: 0.4157 - val_acc: 0.8953\n",
            "Epoch 4/20\n",
            "60000/60000 [==============================] - 16s 261us/step - loss: 0.8499 - acc: 0.7215 - val_loss: 0.4113 - val_acc: 0.8966\n",
            "Epoch 5/20\n",
            "60000/60000 [==============================] - 16s 267us/step - loss: 0.8475 - acc: 0.7249 - val_loss: 0.4098 - val_acc: 0.8946\n",
            "Epoch 6/20\n",
            "60000/60000 [==============================] - 16s 267us/step - loss: 0.8390 - acc: 0.7245 - val_loss: 0.4099 - val_acc: 0.8958\n",
            "Epoch 7/20\n",
            "60000/60000 [==============================] - 16s 265us/step - loss: 0.8367 - acc: 0.7270 - val_loss: 0.4066 - val_acc: 0.8970\n",
            "Epoch 8/20\n",
            "60000/60000 [==============================] - 16s 273us/step - loss: 0.8360 - acc: 0.7279 - val_loss: 0.4086 - val_acc: 0.8946\n",
            "Epoch 9/20\n",
            "60000/60000 [==============================] - 16s 269us/step - loss: 0.8373 - acc: 0.7271 - val_loss: 0.4086 - val_acc: 0.8965\n",
            "Epoch 10/20\n",
            "60000/60000 [==============================] - 16s 260us/step - loss: 0.8322 - acc: 0.7303 - val_loss: 0.4073 - val_acc: 0.8961\n",
            "Epoch 11/20\n",
            "60000/60000 [==============================] - 16s 260us/step - loss: 0.8376 - acc: 0.7300 - val_loss: 0.4060 - val_acc: 0.8968\n",
            "Epoch 12/20\n",
            "60000/60000 [==============================] - 16s 261us/step - loss: 0.8368 - acc: 0.7271 - val_loss: 0.4082 - val_acc: 0.8940\n",
            "Epoch 13/20\n",
            "60000/60000 [==============================] - 17s 280us/step - loss: 0.8326 - acc: 0.7296 - val_loss: 0.4074 - val_acc: 0.8975\n",
            "Epoch 14/20\n",
            "60000/60000 [==============================] - 16s 270us/step - loss: 0.8350 - acc: 0.7290 - val_loss: 0.4075 - val_acc: 0.8965\n",
            "Epoch 15/20\n",
            "60000/60000 [==============================] - 16s 273us/step - loss: 0.8293 - acc: 0.7309 - val_loss: 0.4112 - val_acc: 0.8976\n",
            "Epoch 16/20\n",
            "60000/60000 [==============================] - 16s 270us/step - loss: 0.8257 - acc: 0.7317 - val_loss: 0.4050 - val_acc: 0.8960\n",
            "Epoch 17/20\n",
            "60000/60000 [==============================] - 16s 274us/step - loss: 0.8243 - acc: 0.7311 - val_loss: 0.4051 - val_acc: 0.8976\n",
            "Epoch 18/20\n",
            "60000/60000 [==============================] - 16s 265us/step - loss: 0.8228 - acc: 0.7314 - val_loss: 0.4044 - val_acc: 0.8977\n",
            "Epoch 19/20\n",
            "60000/60000 [==============================] - 16s 259us/step - loss: 0.8268 - acc: 0.7316 - val_loss: 0.4079 - val_acc: 0.8966\n",
            "Epoch 20/20\n",
            "60000/60000 [==============================] - 16s 268us/step - loss: 0.8222 - acc: 0.7327 - val_loss: 0.4066 - val_acc: 0.8981\n"
          ],
          "name": "stdout"
        }
      ]
    },
    {
      "cell_type": "code",
      "metadata": {
        "id": "b_SSHIDSixmw",
        "colab_type": "code",
        "outputId": "6e7a3526-f7f5-46f3-8419-475c7dac86ad",
        "colab": {
          "base_uri": "https://localhost:8080/",
          "height": 510
        }
      },
      "source": [
        "model_drop.summary()"
      ],
      "execution_count": 0,
      "outputs": [
        {
          "output_type": "stream",
          "text": [
            "_________________________________________________________________\n",
            "Layer (type)                 Output Shape              Param #   \n",
            "=================================================================\n",
            "batch_normalization_62 (Batc (None, 784)               3136      \n",
            "_________________________________________________________________\n",
            "dropout_23 (Dropout)         (None, 784)               0         \n",
            "_________________________________________________________________\n",
            "batch_normalization_63 (Batc (None, 784)               3136      \n",
            "_________________________________________________________________\n",
            "dropout_24 (Dropout)         (None, 784)               0         \n",
            "_________________________________________________________________\n",
            "batch_normalization_64 (Batc (None, 784)               3136      \n",
            "_________________________________________________________________\n",
            "dropout_25 (Dropout)         (None, 784)               0         \n",
            "_________________________________________________________________\n",
            "batch_normalization_65 (Batc (None, 784)               3136      \n",
            "_________________________________________________________________\n",
            "dropout_26 (Dropout)         (None, 784)               0         \n",
            "_________________________________________________________________\n",
            "batch_normalization_66 (Batc (None, 784)               3136      \n",
            "_________________________________________________________________\n",
            "dropout_27 (Dropout)         (None, 784)               0         \n",
            "_________________________________________________________________\n",
            "dense_143 (Dense)            (None, 10)                7850      \n",
            "=================================================================\n",
            "Total params: 23,530\n",
            "Trainable params: 15,690\n",
            "Non-trainable params: 7,840\n",
            "_________________________________________________________________\n"
          ],
          "name": "stdout"
        }
      ]
    },
    {
      "cell_type": "code",
      "metadata": {
        "id": "XAdNB-UVjJcd",
        "colab_type": "code",
        "outputId": "ee0badab-c00a-431d-db05-ba0712a9779a",
        "colab": {
          "base_uri": "https://localhost:8080/",
          "height": 317
        }
      },
      "source": [
        "score = model_drop.evaluate(X_test, Y_test, verbose=0)\n",
        "score11=score[0]\n",
        "score12=score[1]\n",
        "train_acc6=history11.history['acc']\n",
        "print('Test score:', score[0]) \n",
        "print('Test accuracy:', score[1])\n",
        "\n",
        "fig,ax23 = plt.subplots(1,1)\n",
        "ax23.set_xlabel('epoch') ; ax23.set_ylabel('Categorical Crossentropy Loss')\n",
        "\n",
        "# list of epoch numbers\n",
        "x = list(range(1,nb_epoch+1))\n",
        "\n",
        "\n",
        "vy23 = history23.history['val_loss']\n",
        "ty23 = history23.history['loss']\n",
        "plt_dynamic(x, vy23, ty23, ax23)"
      ],
      "execution_count": 0,
      "outputs": [
        {
          "output_type": "stream",
          "text": [
            "Test score: 0.40664906318187716\n",
            "Test accuracy: 0.8981\n"
          ],
          "name": "stdout"
        },
        {
          "output_type": "display_data",
          "data": {
            "image/png": "[encoded data removed]",
            "text/plain": [
              "<Figure size 432x288 with 1 Axes>"
            ]
          },
          "metadata": {
            "tags": []
          }
        }
      ]
    },
    {
      "cell_type": "markdown",
      "metadata": {
        "id": "qOcGVi6VkFRn",
        "colab_type": "text"
      },
      "source": [
        " # 5-Hidden layer architecture (784-215-170-135-80-25-10 architecture)¶\n",
        " ### Using MLP+Adam+ReLU"
      ]
    },
    {
      "cell_type": "code",
      "metadata": {
        "id": "VjyXz_hlkJnx",
        "colab_type": "code",
        "outputId": "aa7d9d0d-fe32-4dba-cb13-e4d6f0366a2e",
        "colab": {
          "base_uri": "https://localhost:8080/",
          "height": 1000
        }
      },
      "source": [
        "model_relu = Sequential()\n",
        "model_relu.add(Dense(215, activation='relu', input_shape=(input_dim,),\n",
        "                     kernel_initializer=he_normal(seed=None)))\n",
        "model_relu.add(Dense(170, activation='relu', \n",
        "                     kernel_initializer=he_normal(seed=None)) )\n",
        "                                                    \n",
        "model_relu.add(Dense(135, activation='relu', \n",
        "                     kernel_initializer=he_normal(seed=None)) )\n",
        "model_relu.add(Dense(80, activation='relu', \n",
        "                     kernel_initializer=he_normal(seed=None)) )\n",
        "                                                    \n",
        "model_relu.add(Dense(25, activation='relu', \n",
        "                     kernel_initializer=he_normal(seed=None)) )\n",
        "model_relu.add(Dense(output_dim, activation='softmax'))\n",
        "\n",
        "print(model_relu.summary())\n",
        "\n",
        "model_relu.compile(optimizer='adam',\n",
        "                   loss='categorical_crossentropy',\n",
        "                   metrics=['accuracy'])\n",
        "\n",
        "history31 = model_relu.fit(X_train, Y_train, \n",
        "                         batch_size=batch_size, \n",
        "                         epochs=nb_epoch, verbose=1, \n",
        "                         validation_data=(X_test, Y_test))"
      ],
      "execution_count": 200,
      "outputs": [
        {
          "output_type": "stream",
          "text": [
            "_________________________________________________________________\n",
            "Layer (type)                 Output Shape              Param #   \n",
            "=================================================================\n",
            "dense_144 (Dense)            (None, 215)               168775    \n",
            "_________________________________________________________________\n",
            "dense_145 (Dense)            (None, 170)               36720     \n",
            "_________________________________________________________________\n",
            "dense_146 (Dense)            (None, 135)               23085     \n",
            "_________________________________________________________________\n",
            "dense_147 (Dense)            (None, 80)                10880     \n",
            "_________________________________________________________________\n",
            "dense_148 (Dense)            (None, 25)                2025      \n",
            "_________________________________________________________________\n",
            "dense_149 (Dense)            (None, 10)                260       \n",
            "=================================================================\n",
            "Total params: 241,745\n",
            "Trainable params: 241,745\n",
            "Non-trainable params: 0\n",
            "_________________________________________________________________\n",
            "None\n",
            "Train on 60000 samples, validate on 10000 samples\n",
            "Epoch 1/20\n",
            "60000/60000 [==============================] - 15s 246us/step - loss: 1.0118 - acc: 0.6612 - val_loss: 0.5420 - val_acc: 0.8429\n",
            "Epoch 2/20\n",
            "60000/60000 [==============================] - 8s 139us/step - loss: 0.4515 - acc: 0.8673 - val_loss: 0.3725 - val_acc: 0.8907\n",
            "Epoch 3/20\n",
            "60000/60000 [==============================] - 8s 138us/step - loss: 0.3187 - acc: 0.9068 - val_loss: 0.2618 - val_acc: 0.9230\n",
            "Epoch 4/20\n",
            "60000/60000 [==============================] - 8s 141us/step - loss: 0.2430 - acc: 0.9287 - val_loss: 0.2108 - val_acc: 0.9380\n",
            "Epoch 5/20\n",
            "60000/60000 [==============================] - 8s 140us/step - loss: 0.1945 - acc: 0.9424 - val_loss: 0.1783 - val_acc: 0.9464\n",
            "Epoch 6/20\n",
            "60000/60000 [==============================] - 8s 136us/step - loss: 0.1614 - acc: 0.9519 - val_loss: 0.1640 - val_acc: 0.9495\n",
            "Epoch 7/20\n",
            "60000/60000 [==============================] - 8s 132us/step - loss: 0.1386 - acc: 0.9588 - val_loss: 0.1491 - val_acc: 0.9541\n",
            "Epoch 8/20\n",
            "60000/60000 [==============================] - 8s 131us/step - loss: 0.1225 - acc: 0.9629 - val_loss: 0.1342 - val_acc: 0.9607\n",
            "Epoch 9/20\n",
            "60000/60000 [==============================] - 8s 131us/step - loss: 0.1078 - acc: 0.9680 - val_loss: 0.1291 - val_acc: 0.9614\n",
            "Epoch 10/20\n",
            "60000/60000 [==============================] - 8s 133us/step - loss: 0.0982 - acc: 0.9698 - val_loss: 0.1148 - val_acc: 0.9644\n",
            "Epoch 11/20\n",
            "60000/60000 [==============================] - 9s 146us/step - loss: 0.0874 - acc: 0.9736 - val_loss: 0.1167 - val_acc: 0.9644\n",
            "Epoch 12/20\n",
            "60000/60000 [==============================] - 8s 137us/step - loss: 0.0789 - acc: 0.9754 - val_loss: 0.1125 - val_acc: 0.9676\n",
            "Epoch 13/20\n",
            "60000/60000 [==============================] - 8s 135us/step - loss: 0.0735 - acc: 0.9773 - val_loss: 0.1089 - val_acc: 0.9678\n",
            "Epoch 14/20\n",
            "60000/60000 [==============================] - 8s 131us/step - loss: 0.0674 - acc: 0.9792 - val_loss: 0.1192 - val_acc: 0.9657\n",
            "Epoch 15/20\n",
            "60000/60000 [==============================] - 8s 132us/step - loss: 0.0605 - acc: 0.9810 - val_loss: 0.1034 - val_acc: 0.9697\n",
            "Epoch 16/20\n",
            "60000/60000 [==============================] - 8s 135us/step - loss: 0.0584 - acc: 0.9814 - val_loss: 0.1009 - val_acc: 0.9719\n",
            "Epoch 17/20\n",
            "60000/60000 [==============================] - 8s 136us/step - loss: 0.0513 - acc: 0.9839 - val_loss: 0.1179 - val_acc: 0.9661\n",
            "Epoch 18/20\n",
            "60000/60000 [==============================] - 8s 137us/step - loss: 0.0476 - acc: 0.9843 - val_loss: 0.1207 - val_acc: 0.9652\n",
            "Epoch 19/20\n",
            "60000/60000 [==============================] - 8s 139us/step - loss: 0.0473 - acc: 0.9851 - val_loss: 0.1151 - val_acc: 0.9669\n",
            "Epoch 20/20\n",
            "60000/60000 [==============================] - 8s 136us/step - loss: 0.0397 - acc: 0.9878 - val_loss: 0.1012 - val_acc: 0.9713\n"
          ],
          "name": "stdout"
        }
      ]
    },
    {
      "cell_type": "code",
      "metadata": {
        "id": "5GVcuYfHkMqC",
        "colab_type": "code",
        "outputId": "2edf4d1d-ff05-45f8-bea4-b451e424a581",
        "colab": {
          "base_uri": "https://localhost:8080/",
          "height": 317
        }
      },
      "source": [
        "score = model_relu.evaluate(X_test, Y_test, verbose=0) \n",
        "score13=score[0]\n",
        "score14=score[1]\n",
        "train_acc7=history11.history['acc']\n",
        "print('Test score:', score[0]) \n",
        "print('Test accuracy:', score[1])\n",
        "\n",
        "fig,ax31 = plt.subplots(1,1)\n",
        "ax31.set_xlabel('epoch') ; ax31.set_ylabel('Categorical Crossentropy Loss')\n",
        "\n",
        "# list of epoch numbers\n",
        "x = list(range(1,nb_epoch+1))\n",
        "\n",
        "\n",
        "vy31 = history31.history['val_loss']\n",
        "ty31 = history31.history['loss']\n",
        "plt_dynamic(x, vy31, ty31, ax31)"
      ],
      "execution_count": 0,
      "outputs": [
        {
          "output_type": "stream",
          "text": [
            "Test score: 0.10955118349561235\n",
            "Test accuracy: 0.9727\n"
          ],
          "name": "stdout"
        },
        {
          "output_type": "display_data",
          "data": {
            "image/png": "[encoded data removed]",
            "text/plain": [
              "<Figure size 432x288 with 1 Axes>"
            ]
          },
          "metadata": {
            "tags": []
          }
        }
      ]
    },
    {
      "cell_type": "code",
      "metadata": {
        "id": "yE9LyLNpkcEK",
        "colab_type": "code",
        "colab": {}
      },
      "source": [
        ""
      ],
      "execution_count": 0,
      "outputs": []
    },
    {
      "cell_type": "markdown",
      "metadata": {
        "id": "XrBSGZoOkvmP",
        "colab_type": "text"
      },
      "source": [
        "# MLP + Batch-Norm on hidden Layers + AdamOptimizer"
      ]
    },
    {
      "cell_type": "code",
      "metadata": {
        "id": "Eg5urvBAkxfw",
        "colab_type": "code",
        "colab": {}
      },
      "source": [
        "from keras.layers.normalization import BatchNormalization\n",
        "\n",
        "model_batch = Sequential()\n",
        "\n",
        "model_relu.add(Dense(215, activation='relu', input_shape=(input_dim,),\n",
        "                     kernel_initializer=he_normal(seed=None)))\n",
        "model_batch.add(BatchNormalization())\n",
        "model_relu.add(Dense(170, activation='relu', \n",
        "                     kernel_initializer=he_normal(seed=None)) )\n",
        "model_batch.add(BatchNormalization())\n",
        "                                                    \n",
        "model_relu.add(Dense(135, activation='relu', \n",
        "                     kernel_initializer=he_normal(seed=None)) )\n",
        "model_batch.add(BatchNormalization())\n",
        "model_relu.add(Dense(80, activation='relu', \n",
        "                     kernel_initializer=he_normal(seed=None)) )\n",
        "model_batch.add(BatchNormalization())\n",
        "                                                    \n",
        "model_relu.add(Dense(25, activation='relu', \n",
        "                     kernel_initializer=he_normal(seed=None)) )\n",
        "model_batch.add(BatchNormalization())\n",
        "\n",
        "model_batch.add(Dense(output_dim, activation='softmax'))"
      ],
      "execution_count": 0,
      "outputs": []
    },
    {
      "cell_type": "code",
      "metadata": {
        "id": "j0HjjUZXk4Lw",
        "colab_type": "code",
        "outputId": "d67686e9-edd4-47c8-f570-1f0fe02f429b",
        "colab": {
          "base_uri": "https://localhost:8080/",
          "height": 714
        }
      },
      "source": [
        "model_batch.compile(optimizer='adam', loss='categorical_crossentropy', \n",
        "                    metrics=['accuracy'])\n",
        "\n",
        "history32 = model_batch.fit(X_train, Y_train, \n",
        "                           batch_size=batch_size,\n",
        "                           epochs=nb_epoch, verbose=1, \n",
        "                           validation_data=(X_test, Y_test))"
      ],
      "execution_count": 0,
      "outputs": [
        {
          "output_type": "stream",
          "text": [
            "Train on 60000 samples, validate on 10000 samples\n",
            "Epoch 1/20\n",
            "60000/60000 [==============================] - 19s 324us/step - loss: 0.4930 - acc: 0.8533 - val_loss: 14.2887 - val_acc: 0.1135\n",
            "Epoch 2/20\n",
            "60000/60000 [==============================] - 11s 191us/step - loss: 0.3068 - acc: 0.9116 - val_loss: 14.5482 - val_acc: 0.0974\n",
            "Epoch 3/20\n",
            "60000/60000 [==============================] - 11s 190us/step - loss: 0.2869 - acc: 0.9196 - val_loss: 14.5740 - val_acc: 0.0958\n",
            "Epoch 4/20\n",
            "60000/60000 [==============================] - 11s 191us/step - loss: 0.2781 - acc: 0.9222 - val_loss: 14.2887 - val_acc: 0.1135\n",
            "Epoch 5/20\n",
            "60000/60000 [==============================] - 11s 191us/step - loss: 0.2743 - acc: 0.9228 - val_loss: 14.5297 - val_acc: 0.0980\n",
            "Epoch 6/20\n",
            "60000/60000 [==============================] - 11s 190us/step - loss: 0.2690 - acc: 0.9239 - val_loss: 14.4579 - val_acc: 0.1030\n",
            "Epoch 7/20\n",
            "60000/60000 [==============================] - 12s 193us/step - loss: 0.2662 - acc: 0.9255 - val_loss: 14.4628 - val_acc: 0.1027\n",
            "Epoch 8/20\n",
            "60000/60000 [==============================] - 11s 189us/step - loss: 0.2643 - acc: 0.9263 - val_loss: 14.2887 - val_acc: 0.1135\n",
            "Epoch 9/20\n",
            "60000/60000 [==============================] - 11s 183us/step - loss: 0.2620 - acc: 0.9265 - val_loss: 14.2871 - val_acc: 0.1136\n",
            "Epoch 10/20\n",
            "60000/60000 [==============================] - 11s 183us/step - loss: 0.2584 - acc: 0.9274 - val_loss: 14.2887 - val_acc: 0.1135\n",
            "Epoch 11/20\n",
            "60000/60000 [==============================] - 11s 187us/step - loss: 0.2587 - acc: 0.9282 - val_loss: 14.5482 - val_acc: 0.0974\n",
            "Epoch 12/20\n",
            "60000/60000 [==============================] - 11s 183us/step - loss: 0.2585 - acc: 0.9271 - val_loss: 14.2887 - val_acc: 0.1135\n",
            "Epoch 13/20\n",
            "60000/60000 [==============================] - 11s 182us/step - loss: 0.2585 - acc: 0.9282 - val_loss: 14.2887 - val_acc: 0.1135\n",
            "Epoch 14/20\n",
            "60000/60000 [==============================] - 11s 176us/step - loss: 0.2555 - acc: 0.9284 - val_loss: 14.5482 - val_acc: 0.0974\n",
            "Epoch 15/20\n",
            "60000/60000 [==============================] - 10s 170us/step - loss: 0.2551 - acc: 0.9283 - val_loss: 14.5466 - val_acc: 0.0975\n",
            "Epoch 16/20\n",
            "60000/60000 [==============================] - 10s 167us/step - loss: 0.2538 - acc: 0.9276 - val_loss: 14.4853 - val_acc: 0.1013\n",
            "Epoch 17/20\n",
            "60000/60000 [==============================] - 10s 169us/step - loss: 0.2540 - acc: 0.9279 - val_loss: 14.2887 - val_acc: 0.1135\n",
            "Epoch 18/20\n",
            "60000/60000 [==============================] - 10s 168us/step - loss: 0.2520 - acc: 0.9294 - val_loss: 14.5482 - val_acc: 0.0974\n",
            "Epoch 19/20\n",
            "60000/60000 [==============================] - 10s 168us/step - loss: 0.2525 - acc: 0.9289 - val_loss: 14.5756 - val_acc: 0.0957\n",
            "Epoch 20/20\n",
            "60000/60000 [==============================] - 10s 169us/step - loss: 0.2518 - acc: 0.9296 - val_loss: 14.2887 - val_acc: 0.1135\n"
          ],
          "name": "stdout"
        }
      ]
    },
    {
      "cell_type": "code",
      "metadata": {
        "id": "_-79Nd2Qk6li",
        "colab_type": "code",
        "outputId": "edb11c4b-4a8b-49b8-ffb8-e9532fc3fc28",
        "colab": {
          "base_uri": "https://localhost:8080/",
          "height": 340
        }
      },
      "source": [
        "model_batch.summary()"
      ],
      "execution_count": 0,
      "outputs": [
        {
          "output_type": "stream",
          "text": [
            "_________________________________________________________________\n",
            "Layer (type)                 Output Shape              Param #   \n",
            "=================================================================\n",
            "batch_normalization_57 (Batc (None, 784)               3136      \n",
            "_________________________________________________________________\n",
            "batch_normalization_58 (Batc (None, 784)               3136      \n",
            "_________________________________________________________________\n",
            "batch_normalization_59 (Batc (None, 784)               3136      \n",
            "_________________________________________________________________\n",
            "batch_normalization_60 (Batc (None, 784)               3136      \n",
            "_________________________________________________________________\n",
            "batch_normalization_61 (Batc (None, 784)               3136      \n",
            "_________________________________________________________________\n",
            "dense_137 (Dense)            (None, 10)                7850      \n",
            "=================================================================\n",
            "Total params: 23,530\n",
            "Trainable params: 15,690\n",
            "Non-trainable params: 7,840\n",
            "_________________________________________________________________\n"
          ],
          "name": "stdout"
        }
      ]
    },
    {
      "cell_type": "code",
      "metadata": {
        "id": "B4IdfUx2k9MK",
        "colab_type": "code",
        "outputId": "19ba2665-ddc8-4f79-d7a8-87b17b2b4834",
        "colab": {
          "base_uri": "https://localhost:8080/",
          "height": 317
        }
      },
      "source": [
        "score = model_batch.evaluate(X_test, Y_test, verbose=0) \n",
        "score15=score[0]\n",
        "score16=score[1]\n",
        "train_acc8=history32.history['acc']\n",
        "print('Test score:', score[0]) \n",
        "print('Test accuracy:', score[1])\n",
        "\n",
        "fig,ax32 = plt.subplots(1,1)\n",
        "ax32.set_xlabel('epoch') ; ax32.set_ylabel('Categorical Crossentropy Loss')\n",
        "\n",
        "# list of epoch numbers\n",
        "x = list(range(1,nb_epoch+1))\n",
        "\n",
        "vy32 = history32.history['val_loss']\n",
        "ty32 = history32.history['loss']\n",
        "plt_dynamic(x, vy32, ty32, ax32)"
      ],
      "execution_count": 0,
      "outputs": [
        {
          "output_type": "stream",
          "text": [
            "Test score: 14.28869146270752\n",
            "Test accuracy: 0.1135\n"
          ],
          "name": "stdout"
        },
        {
          "output_type": "display_data",
          "data": {
            "image/png": "[encoded data removed]",
            "text/plain": [
              "<Figure size 432x288 with 1 Axes>"
            ]
          },
          "metadata": {
            "tags": []
          }
        }
      ]
    },
    {
      "cell_type": "markdown",
      "metadata": {
        "id": "Z6-3q-W7lGl7",
        "colab_type": "text"
      },
      "source": [
        "# MLP + Dropout + AdamOptimizer"
      ]
    },
    {
      "cell_type": "code",
      "metadata": {
        "id": "8IF-kfVylIP_",
        "colab_type": "code",
        "colab": {}
      },
      "source": [
        "from keras.layers import Dropout\n",
        "\n",
        "model_drop = Sequential()\n",
        "model_relu.add(Dense(215, activation='relu', input_shape=(input_dim,),\n",
        "                     kernel_initializer=he_normal(seed=None)))\n",
        "model_drop.add(BatchNormalization())\n",
        "model_drop.add(Dropout(0.5))\n",
        "model_relu.add(Dense(170, activation='relu', \n",
        "                     kernel_initializer=he_normal(seed=None)) )\n",
        "model_drop.add(BatchNormalization())\n",
        "model_drop.add(Dropout(0.5))\n",
        "                                                    \n",
        "model_relu.add(Dense(135, activation='relu', \n",
        "                     kernel_initializer=he_normal(seed=None)) )\n",
        "model_drop.add(BatchNormalization())\n",
        "model_drop.add(Dropout(0.5))\n",
        "model_relu.add(Dense(80, activation='relu', \n",
        "                     kernel_initializer=he_normal(seed=None)) )\n",
        "model_drop.add(BatchNormalization())\n",
        "model_drop.add(Dropout(0.5))\n",
        "                                                    \n",
        "model_relu.add(Dense(25, activation='relu', \n",
        "                     kernel_initializer=he_normal(seed=None)) )\n",
        "model_drop.add(BatchNormalization())\n",
        "model_drop.add(Dropout(0.5))\n",
        "\n",
        "model_drop.add(Dense(output_dim, activation='softmax'))"
      ],
      "execution_count": 0,
      "outputs": []
    },
    {
      "cell_type": "code",
      "metadata": {
        "id": "2RKBVHfAlOCc",
        "colab_type": "code",
        "outputId": "995a7872-6814-4f2d-aece-9f74f5a45b88",
        "colab": {
          "base_uri": "https://localhost:8080/",
          "height": 714
        }
      },
      "source": [
        "model_drop.compile(optimizer='adam',\n",
        "                   loss='categorical_crossentropy',\n",
        "                   metrics=['accuracy'])\n",
        "\n",
        "history33 = model_drop.fit(X_train, Y_train,\n",
        "                         batch_size=batch_size,\n",
        "                         \n",
        "                         epochs=nb_epoch, verbose=1,\n",
        "                         validation_data=(X_test, Y_test))"
      ],
      "execution_count": 0,
      "outputs": [
        {
          "output_type": "stream",
          "text": [
            "Train on 60000 samples, validate on 10000 samples\n",
            "Epoch 1/20\n",
            "60000/60000 [==============================] - 28s 463us/step - loss: 2.1623 - acc: 0.3040 - val_loss: 1.0627 - val_acc: 0.8310\n",
            "Epoch 2/20\n",
            "60000/60000 [==============================] - 17s 285us/step - loss: 1.6262 - acc: 0.4351 - val_loss: 0.9791 - val_acc: 0.8452\n",
            "Epoch 3/20\n",
            "60000/60000 [==============================] - 17s 278us/step - loss: 1.6109 - acc: 0.4418 - val_loss: 0.9601 - val_acc: 0.8422\n",
            "Epoch 4/20\n",
            "60000/60000 [==============================] - 17s 277us/step - loss: 1.6119 - acc: 0.4403 - val_loss: 0.9623 - val_acc: 0.8476\n",
            "Epoch 5/20\n",
            "60000/60000 [==============================] - 15s 254us/step - loss: 1.5957 - acc: 0.4464 - val_loss: 0.9451 - val_acc: 0.8471\n",
            "Epoch 6/20\n",
            "60000/60000 [==============================] - 15s 249us/step - loss: 1.6111 - acc: 0.4390 - val_loss: 0.9597 - val_acc: 0.8468\n",
            "Epoch 7/20\n",
            "60000/60000 [==============================] - 15s 251us/step - loss: 1.6066 - acc: 0.4436 - val_loss: 0.9595 - val_acc: 0.8500\n",
            "Epoch 8/20\n",
            "60000/60000 [==============================] - 15s 248us/step - loss: 1.5953 - acc: 0.4450 - val_loss: 0.9483 - val_acc: 0.8488\n",
            "Epoch 9/20\n",
            "60000/60000 [==============================] - 15s 250us/step - loss: 1.5951 - acc: 0.4455 - val_loss: 0.9463 - val_acc: 0.8454\n",
            "Epoch 10/20\n",
            "60000/60000 [==============================] - 15s 252us/step - loss: 1.5900 - acc: 0.4493 - val_loss: 0.9480 - val_acc: 0.8522\n",
            "Epoch 11/20\n",
            "60000/60000 [==============================] - 15s 251us/step - loss: 1.5917 - acc: 0.4494 - val_loss: 0.9592 - val_acc: 0.8443\n",
            "Epoch 12/20\n",
            "60000/60000 [==============================] - 15s 251us/step - loss: 1.5844 - acc: 0.4511 - val_loss: 0.9472 - val_acc: 0.8501\n",
            "Epoch 13/20\n",
            "60000/60000 [==============================] - 15s 257us/step - loss: 1.5803 - acc: 0.4526 - val_loss: 0.9417 - val_acc: 0.8529\n",
            "Epoch 14/20\n",
            "60000/60000 [==============================] - 15s 253us/step - loss: 1.5854 - acc: 0.4510 - val_loss: 0.9493 - val_acc: 0.8493\n",
            "Epoch 15/20\n",
            "60000/60000 [==============================] - 15s 255us/step - loss: 1.5873 - acc: 0.4482 - val_loss: 0.9491 - val_acc: 0.8495\n",
            "Epoch 16/20\n",
            "60000/60000 [==============================] - 15s 251us/step - loss: 1.5898 - acc: 0.4509 - val_loss: 0.9518 - val_acc: 0.8574\n",
            "Epoch 17/20\n",
            "60000/60000 [==============================] - 15s 252us/step - loss: 1.5812 - acc: 0.4524 - val_loss: 0.9531 - val_acc: 0.8498\n",
            "Epoch 18/20\n",
            "60000/60000 [==============================] - 15s 250us/step - loss: 1.5737 - acc: 0.4558 - val_loss: 0.9438 - val_acc: 0.8380\n",
            "Epoch 19/20\n",
            "60000/60000 [==============================] - 15s 252us/step - loss: 1.5746 - acc: 0.4517 - val_loss: 0.9484 - val_acc: 0.8486\n",
            "Epoch 20/20\n",
            "60000/60000 [==============================] - 15s 249us/step - loss: 1.5736 - acc: 0.4541 - val_loss: 0.9469 - val_acc: 0.8531\n"
          ],
          "name": "stdout"
        }
      ]
    },
    {
      "cell_type": "code",
      "metadata": {
        "id": "8SnksFG6leSU",
        "colab_type": "code",
        "outputId": "00ede234-7cbb-4c48-9f38-f0fd24c9ae81",
        "colab": {
          "base_uri": "https://localhost:8080/",
          "height": 510
        }
      },
      "source": [
        "model_drop.summary()"
      ],
      "execution_count": 0,
      "outputs": [
        {
          "output_type": "stream",
          "text": [
            "_________________________________________________________________\n",
            "Layer (type)                 Output Shape              Param #   \n",
            "=================================================================\n",
            "batch_normalization_62 (Batc (None, 784)               3136      \n",
            "_________________________________________________________________\n",
            "dropout_23 (Dropout)         (None, 784)               0         \n",
            "_________________________________________________________________\n",
            "batch_normalization_63 (Batc (None, 784)               3136      \n",
            "_________________________________________________________________\n",
            "dropout_24 (Dropout)         (None, 784)               0         \n",
            "_________________________________________________________________\n",
            "batch_normalization_64 (Batc (None, 784)               3136      \n",
            "_________________________________________________________________\n",
            "dropout_25 (Dropout)         (None, 784)               0         \n",
            "_________________________________________________________________\n",
            "batch_normalization_65 (Batc (None, 784)               3136      \n",
            "_________________________________________________________________\n",
            "dropout_26 (Dropout)         (None, 784)               0         \n",
            "_________________________________________________________________\n",
            "batch_normalization_66 (Batc (None, 784)               3136      \n",
            "_________________________________________________________________\n",
            "dropout_27 (Dropout)         (None, 784)               0         \n",
            "_________________________________________________________________\n",
            "dense_143 (Dense)            (None, 10)                7850      \n",
            "=================================================================\n",
            "Total params: 23,530\n",
            "Trainable params: 15,690\n",
            "Non-trainable params: 7,840\n",
            "_________________________________________________________________\n"
          ],
          "name": "stdout"
        }
      ]
    },
    {
      "cell_type": "code",
      "metadata": {
        "id": "13daCTcAljAg",
        "colab_type": "code",
        "colab": {
          "base_uri": "https://localhost:8080/",
          "height": 317
        },
        "outputId": "bd4983e6-b410-4b97-a315-39275a1df249"
      },
      "source": [
        "score = model_drop.evaluate(X_test, Y_test, verbose=0) \n",
        "score17=score[0]\n",
        "score18=score[1]\n",
        "train_acc9=history33.history['acc']\n",
        "print('Test score:', score[0]) \n",
        "print('Test accuracy:', score[1])\n",
        "\n",
        "fig,ax33 = plt.subplots(1,1)\n",
        "ax33.set_xlabel('epoch') ; ax33.set_ylabel('Categorical Crossentropy Loss')\n",
        "\n",
        "# list of epoch numbers\n",
        "x = list(range(1,nb_epoch+1))\n",
        "\n",
        "\n",
        "vy33 = history33.history['val_loss']\n",
        "ty33 = history33.history['loss']\n",
        "plt_dynamic(x, vy33, ty33, ax33)"
      ],
      "execution_count": 201,
      "outputs": [
        {
          "output_type": "stream",
          "text": [
            "Test score: 0.9469478063583374\n",
            "Test accuracy: 0.8531\n"
          ],
          "name": "stdout"
        },
        {
          "output_type": "display_data",
          "data": {
            "image/png": "[encoded data removed]",
            "text/plain": [
              "<Figure size 432x288 with 1 Axes>"
            ]
          },
          "metadata": {
            "tags": []
          }
        }
      ]
    },
    {
      "cell_type": "markdown",
      "metadata": {
        "id": "SdV_2_jslu3u",
        "colab_type": "text"
      },
      "source": [
        "# Pretty Table"
      ]
    },
    {
      "cell_type": "code",
      "metadata": {
        "id": "J-saLo60lqxW",
        "colab_type": "code",
        "colab": {}
      },
      "source": [
        "\n",
        "from prettytable import PrettyTable"
      ],
      "execution_count": 0,
      "outputs": []
    },
    {
      "cell_type": "code",
      "metadata": {
        "id": "z0VAD5hXl76z",
        "colab_type": "code",
        "colab": {}
      },
      "source": [
        "models=['2-HiddenLayer MLP+ReLu+Adam',\n",
        "        '2-HiddenLayer MLP+Relu+adam+BN',\n",
        "        '2-hiddenlayer MLP+reLu+Adam+BN+Drop-out',\n",
        "        '3-HiddenLayer MLP+ReLu+Adam',\n",
        "        '3-HiddenLayer MLP+Relu+adam+BN',\n",
        "        '3-HiddenLayer MLP+reLu+Adam+BN+Drop-out',\n",
        "        '5-HiddenLayer MLP+ReLu+Adam',\n",
        "        '5-HiddenLayer MLP+Relu+adam+BN',\n",
        "        '5-HiddenLayer MLP+reLu+Adam+BN+Drop-out']"
      ],
      "execution_count": 0,
      "outputs": []
    },
    {
      "cell_type": "code",
      "metadata": {
        "id": "CgobjRNEmbe9",
        "colab_type": "code",
        "colab": {}
      },
      "source": [
        "training_accuracy=[train_acc1,train_acc2,train_acc3,train_acc4,\n",
        "                   train_acc5,train_acc6,train_acc7,train_acc8,\n",
        "                   train_acc9\n",
        "                   \n",
        "                  ]\n"
      ],
      "execution_count": 0,
      "outputs": []
    },
    {
      "cell_type": "code",
      "metadata": {
        "id": "OIpcoQTjmeVJ",
        "colab_type": "code",
        "colab": {}
      },
      "source": [
        "test_score=[score1,score3,score5,score7,score9,score11,score13,score15,\n",
        "           score17]"
      ],
      "execution_count": 0,
      "outputs": []
    },
    {
      "cell_type": "code",
      "metadata": {
        "id": "8FRQSXfBmjWK",
        "colab_type": "code",
        "colab": {}
      },
      "source": [
        "test_accuracy=[score2,score4,score6,score8,score10,score12,score14,\n",
        "              score16,\n",
        "              score18]\n",
        "INDEX = [1,2,3,4,5,6,7,8,9]"
      ],
      "execution_count": 0,
      "outputs": []
    },
    {
      "cell_type": "code",
      "metadata": {
        "id": "51XgYwIVmlow",
        "colab_type": "code",
        "colab": {
          "base_uri": "https://localhost:8080/",
          "height": 258
        },
        "outputId": "a6340f57-7ce4-439e-f1c6-cb9bb8bf2883"
      },
      "source": [
        "\n",
        "# Initializing prettytable\n",
        "Performance = PrettyTable()\n",
        "# Adding columns\n",
        "Performance.add_column(\"INDEX.\",INDEX)\n",
        "Performance.add_column(\"MODEL_NAME\",models)\n",
        "Performance.add_column(\"TRAINING ACCURACY\",training_accuracy)\n",
        "Performance.add_column(\"TESTING ACCURACY\",test_accuracy)\n",
        "Performance.add_column(\"TEST SCORE\",test_score)\n",
        "\n",
        "# Printing the Model_Performance\n",
        "print(Performance)"
      ],
      "execution_count": 209,
      "outputs": [
        {
          "output_type": "stream",
          "text": [
            "+--------+-----------------------------------------+-------------------------------------------------------------------------------------------------------------------------------------------------------------------------------------------------------------------------------------------------------------------------------------------------------------------------------------------------------------------------------------------------------+------------------+---------------------+\n",
            "| INDEX. |                MODEL_NAME               |                                                                                                                                                                                           TRAINING ACCURACY                                                                                                                                                                                           | TESTING ACCURACY |      TEST SCORE     |\n",
            "+--------+-----------------------------------------+-------------------------------------------------------------------------------------------------------------------------------------------------------------------------------------------------------------------------------------------------------------------------------------------------------------------------------------------------------------------------------------------------------+------------------+---------------------+\n",
            "|   1    |       2-HiddenLayer MLP+ReLu+Adam       |                    [0.7285833333333334, 0.8893666666984558, 0.907, 0.9176333333015442, 0.9250000000317892, 0.9330833333015441, 0.9397166666666666, 0.9456833333333333, 0.9509, 0.9557833333015442, 0.9603166666348775, 0.9627499999682109, 0.96615, 0.9690166666666666, 0.9708666666348775, 0.9731, 0.9748333333015442, 0.9769333333333333, 0.9789166666348775, 0.9801833333651224]                   |      0.9708      |  0.0951651296434924 |\n",
            "|   2    |      2-HiddenLayer MLP+Relu+adam+BN     |                    [0.7285833333333334, 0.8893666666984558, 0.907, 0.9176333333015442, 0.9250000000317892, 0.9330833333015441, 0.9397166666666666, 0.9456833333333333, 0.9509, 0.9557833333015442, 0.9603166666348775, 0.9627499999682109, 0.96615, 0.9690166666666666, 0.9708666666348775, 0.9731, 0.9748333333015442, 0.9769333333333333, 0.9789166666348775, 0.9801833333651224]                   |      0.9744      | 0.11341167752964976 |\n",
            "|   3    | 2-hiddenlayer MLP+reLu+Adam+BN+Drop-out |                    [0.7285833333333334, 0.8893666666984558, 0.907, 0.9176333333015442, 0.9250000000317892, 0.9330833333015441, 0.9397166666666666, 0.9456833333333333, 0.9509, 0.9557833333015442, 0.9603166666348775, 0.9627499999682109, 0.96615, 0.9690166666666666, 0.9708666666348775, 0.9731, 0.9748333333015442, 0.9769333333333333, 0.9789166666348775, 0.9801833333651224]                   |      0.9652      | 0.10941378992907703 |\n",
            "|   4    |       3-HiddenLayer MLP+ReLu+Adam       |                    [0.7285833333333334, 0.8893666666984558, 0.907, 0.9176333333015442, 0.9250000000317892, 0.9330833333015441, 0.9397166666666666, 0.9456833333333333, 0.9509, 0.9557833333015442, 0.9603166666348775, 0.9627499999682109, 0.96615, 0.9690166666666666, 0.9708666666348775, 0.9731, 0.9748333333015442, 0.9769333333333333, 0.9789166666348775, 0.9801833333651224]                   |      0.8531      |  0.9469478063583374 |\n",
            "|   5    |      3-HiddenLayer MLP+Relu+adam+BN     |                    [0.7285833333333334, 0.8893666666984558, 0.907, 0.9176333333015442, 0.9250000000317892, 0.9330833333015441, 0.9397166666666666, 0.9456833333333333, 0.9509, 0.9557833333015442, 0.9603166666348775, 0.9627499999682109, 0.96615, 0.9690166666666666, 0.9708666666348775, 0.9731, 0.9748333333015442, 0.9769333333333333, 0.9789166666348775, 0.9801833333651224]                   |      0.2545      |  7.042523400878906  |\n",
            "|   6    | 3-HiddenLayer MLP+reLu+Adam+BN+Drop-out |                    [0.7285833333333334, 0.8893666666984558, 0.907, 0.9176333333015442, 0.9250000000317892, 0.9330833333015441, 0.9397166666666666, 0.9456833333333333, 0.9509, 0.9557833333015442, 0.9603166666348775, 0.9627499999682109, 0.96615, 0.9690166666666666, 0.9708666666348775, 0.9731, 0.9748333333015442, 0.9769333333333333, 0.9789166666348775, 0.9801833333651224]                   |      0.8981      | 0.40664906318187716 |\n",
            "|   7    |       5-HiddenLayer MLP+ReLu+Adam       |                    [0.7285833333333334, 0.8893666666984558, 0.907, 0.9176333333015442, 0.9250000000317892, 0.9330833333015441, 0.9397166666666666, 0.9456833333333333, 0.9509, 0.9557833333015442, 0.9603166666348775, 0.9627499999682109, 0.96615, 0.9690166666666666, 0.9708666666348775, 0.9731, 0.9748333333015442, 0.9769333333333333, 0.9789166666348775, 0.9801833333651224]                   |      0.9727      | 0.10955118349561235 |\n",
            "|   8    |      5-HiddenLayer MLP+Relu+adam+BN     |       [0.8532833333333333, 0.9115833333651224, 0.9196333333651224, 0.9221999999682109, 0.9227666666984559, 0.9239166666984558, 0.9255166666666667, 0.9262999999682109, 0.92655, 0.9273500000317891, 0.9282333333015442, 0.9270999999682109, 0.9282333333651225, 0.9283666666984558, 0.9282833333015442, 0.9275833333333333, 0.9278999999682108, 0.9294, 0.9289499999682108, 0.9295666666348775]       |      0.1135      |  14.28869146270752  |\n",
            "|   9    | 5-HiddenLayer MLP+reLu+Adam+BN+Drop-out | [0.3040333333492279, 0.4351166666825612, 0.44179999996821084, 0.44028333333333336, 0.44635000003178915, 0.43896666668256124, 0.44365, 0.44501666666666667, 0.44550000001589457, 0.4493333333015442, 0.4494000000158946, 0.45115, 0.45261666668256123, 0.4509500000158946, 0.4482166666825612, 0.45093333331743873, 0.45243333331743874, 0.45584999996821085, 0.4517166666825612, 0.45413333331743877] |      0.8531      |  0.9469478063583374 |\n",
            "+--------+-----------------------------------------+-------------------------------------------------------------------------------------------------------------------------------------------------------------------------------------------------------------------------------------------------------------------------------------------------------------------------------------------------------------------------------------------------------+------------------+---------------------+\n"
          ],
          "name": "stdout"
        }
      ]
    }
  ]
}